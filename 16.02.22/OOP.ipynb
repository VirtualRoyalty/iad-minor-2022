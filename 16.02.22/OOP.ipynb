{
 "cells": [
  {
   "cell_type": "markdown",
   "metadata": {},
   "source": [
    "# Объектно-ориентированное программирование\n",
    "\n",
    "При создании больших программ одним из наиболее важных критериев является читаемость кода. Можно считать, что код легко читаем, если не знакомый с задачей человек может понять работу кода. В небольших программах этого легко достичь, если использовать осмысленные имена переменных. \n",
    "- Процедурное программирование\n",
    "\n",
    "    В процедурном программировании разделяют функции и данные. Последовательно исполняемые подпрограммы изменяют исходные данные.\n",
    "    \n",
    "- Функциональное программирование\n",
    "\n",
    "    Исходные данные не изменяются. Код состоит из функций, которые могут использовать результаты вычисления других функций.\n",
    "    \n",
    "- Объектно-ориентированное программирование\n",
    "\n",
    "    Части кода связаны друг с другом с помощью объектов, объединяющих данные и методы работы с ними.Состояние объектов может меняться в процессе выполнения программы."
   ]
  },
  {
   "cell_type": "markdown",
   "metadata": {},
   "source": [
    "Python - объектно-ориентированный язык программирования. Основными понятиями в ООП являются **класс** - тип данных, шаблон объекта, а сам **объект** - конкретный представитель некоторого класса. \n",
    "\n",
    "Каждый класс обладает своими **атрибутами (полями)**  - свойствами (переменными), которыми может обладать каждый объект. Например, у класса \"книга\" атрибутам могут быть автор, жанр и число страниц; соответствеено объектами могут быть сказка братьев Гримм на 8 страниц или детектив А.Конан-Дойля на 200 страниц.\n",
    "\n",
    "Также у каждого класса есть присущие только ему функции - **методы класса**. Например, у каждого класса может быть собственный вид выдачи информации: команда \"голос\" для животных. Первый и обязательный аргумент каждого метода - **self** -это обращение к текущему экземпляру класса.\n",
    "\n",
    "У каждого класса обязательно есть **конструктор** -  **__init__**  создания объекта (подготовки его к использованию) и инициализации его полей - как правило, все атрибуты определяются именно здесь. Также существует метод **деструктора** - уничтожения объекта - обычно объекты, как и обычные переменные, уничтожаются после выполнения программы."
   ]
  },
  {
   "cell_type": "code",
   "execution_count": 3,
   "metadata": {},
   "outputs": [
    {
     "name": "stdout",
     "output_type": "stream",
     "text": [
      "<class 'str'>\n"
     ]
    }
   ],
   "source": [
    "a = 'Hello world'\n",
    "print(type(a))"
   ]
  },
  {
   "cell_type": "code",
   "execution_count": 4,
   "metadata": {},
   "outputs": [
    {
     "data": {
      "text/plain": [
       "11"
      ]
     },
     "execution_count": 4,
     "metadata": {},
     "output_type": "execute_result"
    }
   ],
   "source": [
    "len(a)"
   ]
  },
  {
   "cell_type": "code",
   "execution_count": 5,
   "metadata": {},
   "outputs": [
    {
     "data": {
      "text/plain": [
       "'HELLO WORLD'"
      ]
     },
     "execution_count": 5,
     "metadata": {},
     "output_type": "execute_result"
    }
   ],
   "source": [
    "a.upper()"
   ]
  },
  {
   "cell_type": "code",
   "execution_count": 8,
   "metadata": {},
   "outputs": [
    {
     "name": "stdout",
     "output_type": "stream",
     "text": [
      "Полли хочет крекер\n",
      "blink blink \n",
      "\n",
      "Йо-хо-хо\n",
      "blink \n",
      "\n",
      "Кар-кар\n",
      "blink blink blink \n",
      "\n"
     ]
    }
   ],
   "source": [
    "class  Bird:\n",
    "    def __init__(self, color, voice, food, eyes):  # конструктор\n",
    "        self.color = color\n",
    "        self.voice = voice\n",
    "        self.food = food\n",
    "        self.eyes = eyes\n",
    "    def say(self):\n",
    "        print (self.voice)\n",
    "    def blink(self):\n",
    "        for i in range(self.eyes):\n",
    "            print ('blink', end=' ')\n",
    "        print ('\\n')\n",
    "    def __contains__(self, item):\n",
    "        return item in self.__dict__.values()\n",
    "\n",
    "\n",
    "Polly = Bird('Белый', 'Полли хочет крекер', 'крекер', 2)\n",
    "Jack = Bird('Красный', 'Йо-хо-хо', 'акула', 1)\n",
    "Bran = Bird('Черный', 'Кар-кар' ,'зерно', 3)\n",
    "Polly.say()\n",
    "Polly.blink()\n",
    "Jack.say()\n",
    "Jack.blink()\n",
    "Bran.say()\n",
    "Bran.blink()"
   ]
  },
  {
   "cell_type": "markdown",
   "metadata": {
    "collapsed": true
   },
   "source": [
    "На данный момент может показаться, что объекты и классы - просто ненужное увеличение количества строк кода для облегчения читаемости. Для того, чтобы превратить его в мощный и удобный инструмент программиста, потребуются такие вещи как полиморфизм, инкапсуляция и наследование.\n",
    "\n",
    "**Инкапсуляция** - это скрытие реализации, отделение от интерфейса. Изначально все атрибуты открыты (public) и их можно изменять извне. Нам же хочется, чтобы он менял свое состояние только встроенными методами. Например, вместо ручного изменения роста дерева нужно будет использовать функцию роста дерева. Что, во-первых, опять улучшает читаемость кода, а во-вторых, избавляет от ошибок - не дает сделать высоту дерева отрицательной или строкой. В Python двойное подчеркивание перед полем или методом намекает запрещает к нему доступ извне - делает приватным (private).\n",
    "\n",
    "**Наследование** - это создание нового класса на основе предыдущего. Все классы в Python по умолчанию наследуются от класса object. Дочерний класс содержит все атрибуты родительского класса. Это позволяет не переписывать одни и те же куски кода повторно. Например, может быть класс животные с методами \"есть\" и \"расти\", их потомок - змеи с функцикей \"ползать\" и кролики со способностью \"прыгать\".\n",
    "\n",
    "**Полиморфизм** - это единообразная работа с данными разных типов, в частности, перегрузка операторов. У разных классов схожие по своему действию методы удобно называть одинаково, даже если внутри они будут выполняться по-разному. К примеру, в Python метод сложения \"+\" может работать как с числами - выдавая сумму - так и со строками - выдавая склеенную строку. Для комплексных чисел сложение тоде придется переопредилить, чтобы складывать отдельно мнимую и рациональную части. Стандартные операторы, которые может потребуется переопределить, это: __init__(создание объекта), __add__(+), __sub__(-), __mul__(`*`), __div__(/), __eq__(==), __neq__(!=), __lt__(<), __gt__(>), __len__(длина объекта),__getitem__([] обращение к ячейке контейнера), __setitem__(изменение ячейки контейнера), __str__(строковое представление объекта, например, для print), __call__(() - вызов объекта, как функции)"
   ]
  },
  {
   "cell_type": "code",
   "execution_count": 36,
   "metadata": {},
   "outputs": [],
   "source": [
    "class Tree:\n",
    "    def __init__(self, height):\n",
    "        self.height = int(1 * height)\n",
    "\n",
    "    def grow(self):\n",
    "        self.height += 1\n",
    "        \n",
    "    def harvest(self):\n",
    "        print(\"Тут только листья\")\n",
    "        \n",
    "    def info(self):\n",
    "        print(\"высота \", self.height, end=\" \")\n",
    "        self.harvest()\n",
    "\n",
    "class Apple(Tree):\n",
    "    def __init__(self, height, apples, sort_name, leaf_color):\n",
    "        super().__init__(height)\n",
    "        self.apples = apples\n",
    "        self.sort_name = sort_name\n",
    "        self.leaf_color = leaf_color\n",
    "        \n",
    "    def harvest(self):\n",
    "        print(f\"Собрали {self.apples} яблок!\")\n",
    "        \n",
    "    def __str__(self):\n",
    "        return f'{self.__class__} tree has {self.height} height and {self.apples} apples'\n",
    "    \n",
    "    def __contains__(self, item):\n",
    "        return item in self.__dict__.values()\n",
    "        \n",
    "class BamBoo(Tree):\n",
    "    def grow(self):\n",
    "        self.height += 100\n",
    "\n",
    "# A = Tree(10)\n",
    "# B = Apple(10, apples=50)\n",
    "# C = BamBoo(10)\n",
    "\n",
    "# for tree in [A, B, C]:\n",
    "#     tree.grow()\n",
    "#     tree.info()\n",
    "\n",
    "# # A.info()\n",
    "# B.info()\n",
    "# C.info()\n"
   ]
  },
  {
   "cell_type": "code",
   "execution_count": 40,
   "metadata": {},
   "outputs": [
    {
     "name": "stdout",
     "output_type": "stream",
     "text": [
      "высота  10 Собрали 50 яблок!\n"
     ]
    }
   ],
   "source": [
    "apple_tree = Apple(height=10, apples=50, sort_name='russian', leaf_color='green')\n",
    "another_apple_tree = Apple(height=12, apples=10, \n",
    "                           sort_name='american', \n",
    "                           leaf_color='brown')\n",
    "\n",
    "apple_tree.info()"
   ]
  },
  {
   "cell_type": "code",
   "execution_count": 41,
   "metadata": {},
   "outputs": [
    {
     "name": "stdout",
     "output_type": "stream",
     "text": [
      "<class '__main__.Apple'> tree has 10 height and 50 apples\n"
     ]
    }
   ],
   "source": [
    "print(apple_tree)"
   ]
  },
  {
   "cell_type": "code",
   "execution_count": 42,
   "metadata": {},
   "outputs": [
    {
     "data": {
      "text/plain": [
       "True"
      ]
     },
     "execution_count": 42,
     "metadata": {},
     "output_type": "execute_result"
    }
   ],
   "source": [
    "d = dict(a=1, b=10, c=100)\n",
    "'a' in d"
   ]
  },
  {
   "cell_type": "code",
   "execution_count": 48,
   "metadata": {},
   "outputs": [
    {
     "data": {
      "text/plain": [
       "__main__.BamBoo"
      ]
     },
     "execution_count": 48,
     "metadata": {},
     "output_type": "execute_result"
    }
   ],
   "source": [
    "type(C)"
   ]
  },
  {
   "cell_type": "code",
   "execution_count": 46,
   "metadata": {},
   "outputs": [
    {
     "data": {
      "text/plain": [
       "True"
      ]
     },
     "execution_count": 46,
     "metadata": {},
     "output_type": "execute_result"
    }
   ],
   "source": [
    "'russian' in apple_tree and 'green' in apple_tree"
   ]
  },
  {
   "cell_type": "code",
   "execution_count": 50,
   "metadata": {},
   "outputs": [
    {
     "data": {
      "text/plain": [
       "range(0, 10)"
      ]
     },
     "execution_count": 50,
     "metadata": {},
     "output_type": "execute_result"
    }
   ],
   "source": [
    "range(0, 10)"
   ]
  },
  {
   "cell_type": "code",
   "execution_count": 67,
   "metadata": {},
   "outputs": [],
   "source": [
    "class TreeRange:\n",
    "    \n",
    "    def __init__(self, first_tree, forest_size):\n",
    "        self.first_tree = first_tree\n",
    "        self.forest_size = forest_size\n",
    "        \n",
    "    def __iter__(self):\n",
    "        return self\n",
    "        \n",
    "    def __next__(self):\n",
    "        if self.forest_size > 0:\n",
    "            self.forest_size -= 1 \n",
    "            params = self.first_tree.__dict__\n",
    "            params['height'] += 10\n",
    "            params['apples'] += 2\n",
    "            self.first_tree = Apple(**params)\n",
    "            return self.first_tree\n",
    "        else:\n",
    "            raise StopIteration"
   ]
  },
  {
   "cell_type": "code",
   "execution_count": 68,
   "metadata": {},
   "outputs": [
    {
     "name": "stdout",
     "output_type": "stream",
     "text": [
      "<class '__main__.Apple'> tree has 20 height and 52 apples\n"
     ]
    }
   ],
   "source": [
    "print(apple_tree)"
   ]
  },
  {
   "cell_type": "code",
   "execution_count": 71,
   "metadata": {},
   "outputs": [
    {
     "name": "stdout",
     "output_type": "stream",
     "text": [
      "<class '__main__.Apple'> tree has 50 height and 58 apples\n",
      "<class '__main__.Apple'> tree has 60 height and 60 apples\n",
      "<class '__main__.Apple'> tree has 70 height and 62 apples\n",
      "<class '__main__.Apple'> tree has 80 height and 64 apples\n",
      "<class '__main__.Apple'> tree has 90 height and 66 apples\n",
      "<class '__main__.Apple'> tree has 100 height and 68 apples\n",
      "<class '__main__.Apple'> tree has 110 height and 70 apples\n",
      "<class '__main__.Apple'> tree has 120 height and 72 apples\n",
      "<class '__main__.Apple'> tree has 130 height and 74 apples\n",
      "<class '__main__.Apple'> tree has 140 height and 76 apples\n"
     ]
    }
   ],
   "source": [
    "for tree in TreeRange(apple_tree, forest_size=10):\n",
    "    print(tree)"
   ]
  },
  {
   "cell_type": "markdown",
   "metadata": {},
   "source": [
    "##  Геометрия\n",
    "\n",
    "Задачи на геометрические фигуры  удобно решать с помощью ООП, так как у объектов есть очевидные методы - координаты, и методы: площадь, периметр. Также один из наиболее близких к парадигмам ООП класс задач - комплексные числа, для которых нужно переопределять арифметические операции.\n",
    "\n",
    "\n",
    "В геометрических задачах базовый класс - **точка**. Её атрибуты - координаты x и y. Реализуем метод `_eq_` проверяющий, что две точки не совпадают. Метод `_str_` выдает представление точки в виде строки.\n",
    "\n",
    "При желании, можно создавать класс точки так, что переносить решение задачи в n-мерное пространство можно изменив лишь небольшую часть кода. Для этого, например, координаты следует реализовывать в виде списка."
   ]
  },
  {
   "cell_type": "code",
   "execution_count": 5,
   "metadata": {
    "collapsed": true
   },
   "outputs": [],
   "source": [
    "class Point:\n",
    "    def __init__(self, first, second):\n",
    "        if ((type(first) == int or type(first) == float) and (type(second) == int or type(second) == float)):\n",
    "            self.x = first\n",
    "            self.y = second\n",
    "\n",
    "    def __str__(self):\n",
    "        return (str(self.x) + ' ' + str(self.y))\n",
    "\n",
    "    def __eq__(self, other):\n",
    "        if type(other) == Point:\n",
    "            return (self.x - other.x == 0 and self.y - other.y == 0)"
   ]
  },
  {
   "cell_type": "markdown",
   "metadata": {},
   "source": [
    "Для решения геометрических задач в программировании чаще используют векотр. Создадим необходимый класс.\n",
    "**Вектор** можно инициализировать двумя числами, если мы находимся в двумерной плоскости, или двумя точками (учитывая направление вектора). Переопределим для вектора арифметические операции сравнения на равенство `_eq_`, сложения `_add_`, вычитания `_sub_` и умножения `_mul_` на число и векторного умножения на другой вектор (метод выдаёт модуль произведения). Добавим метод модуля вектора `_abs_` и его строковое предсталение `_str_`."
   ]
  },
  {
   "cell_type": "code",
   "execution_count": 8,
   "metadata": {},
   "outputs": [],
   "source": [
    "class Vector:\n",
    "    def __init__(self, first, second):\n",
    "        if ((type(first) == int or type(first) == float) and (type(second) == int or type(second) == float)):\n",
    "            self.x = first\n",
    "            self.y = second\n",
    "        if type(first) == Point and type(second) == Point:\n",
    "            self.x = second.x - first.x\n",
    "            self.y = second.y - first.y\n",
    "\n",
    "    def __str__(self):\n",
    "        return ('Vector' + ' ' + str(self.x) + ' ' + str(self.y))\n",
    "\n",
    "    def __abs__(self):\n",
    "        return ((self.x ** 2 + self.y ** 2) ** 0.5)\n",
    "\n",
    "    def __eq__(self, other):\n",
    "        if type(other) == Vector:\n",
    "            return (self.x - other.x == 0 and self.y - other.y == 0)\n",
    "\n",
    "    def __add__(self, other):\n",
    "        if type(other) == Vector:\n",
    "            return (Vector(self.x + other.x, self.y + other.y))\n",
    "\n",
    "    def __sub__(self, other):\n",
    "        if type(other) == Vector:\n",
    "            return (Vector(self.x - other.x, self.y - other.y))\n",
    "\n",
    "    def __mul__(self, other):\n",
    "        if type(other) == int or type(other) == float:\n",
    "            return (Vector(self.x * other, self.y * other))\n",
    "        if type(other) == Vector:\n",
    "            return (self.x * other.y - self.y * other.x)"
   ]
  },
  {
   "cell_type": "markdown",
   "metadata": {},
   "source": [
    "Решим простую задачу - нахождение площади треугольника по координатам вершин.\n",
    "\n",
    "Для этой задачи из класса \"вектор\" нам потребуется только его длина (квадратный корень модуля) и произведение (для подсчёта площади), Остальные методы не пишем для сокращения кода. Создаём класс **Треугольник**, инициализирующийся по трём вершинам. В этом классе нас интерисует только метод площади."
   ]
  },
  {
   "cell_type": "code",
   "execution_count": 11,
   "metadata": {},
   "outputs": [
    {
     "ename": "TypeError",
     "evalue": "'int' object is not iterable",
     "output_type": "error",
     "traceback": [
      "\u001b[1;31m---------------------------------------------------------------------------\u001b[0m",
      "\u001b[1;31mTypeError\u001b[0m                                 Traceback (most recent call last)",
      "\u001b[1;32m<ipython-input-11-d4061949da1e>\u001b[0m in \u001b[0;36m<module>\u001b[1;34m()\u001b[0m\n\u001b[0;32m     32\u001b[0m         \u001b[1;32mreturn\u001b[0m \u001b[0mabs\u001b[0m\u001b[1;33m(\u001b[0m\u001b[0mVector\u001b[0m\u001b[1;33m(\u001b[0m\u001b[0ma\u001b[0m\u001b[1;33m,\u001b[0m \u001b[0mb\u001b[0m\u001b[1;33m)\u001b[0m \u001b[1;33m*\u001b[0m \u001b[0mVector\u001b[0m\u001b[1;33m(\u001b[0m\u001b[0ma\u001b[0m\u001b[1;33m,\u001b[0m \u001b[0mc\u001b[0m\u001b[1;33m)\u001b[0m\u001b[1;33m)\u001b[0m \u001b[1;33m/\u001b[0m \u001b[1;36m2\u001b[0m\u001b[1;33m\u001b[0m\u001b[0m\n\u001b[0;32m     33\u001b[0m \u001b[1;33m\u001b[0m\u001b[0m\n\u001b[1;32m---> 34\u001b[1;33m \u001b[0ma\u001b[0m \u001b[1;33m=\u001b[0m \u001b[0mPoint\u001b[0m\u001b[1;33m(\u001b[0m\u001b[1;33m-\u001b[0m\u001b[1;36m3\u001b[0m\u001b[1;33m,\u001b[0m \u001b[1;36m0\u001b[0m\u001b[1;33m)\u001b[0m\u001b[1;33m\u001b[0m\u001b[0m\n\u001b[0m\u001b[0;32m     35\u001b[0m \u001b[0mb\u001b[0m \u001b[1;33m=\u001b[0m \u001b[0mPoint\u001b[0m\u001b[1;33m(\u001b[0m\u001b[1;36m9\u001b[0m\u001b[1;33m,\u001b[0m\u001b[1;36m9\u001b[0m\u001b[1;33m)\u001b[0m\u001b[1;33m\u001b[0m\u001b[0m\n\u001b[0;32m     36\u001b[0m \u001b[0mc\u001b[0m \u001b[1;33m=\u001b[0m \u001b[0mPoint\u001b[0m\u001b[1;33m(\u001b[0m\u001b[1;36m7\u001b[0m\u001b[1;33m,\u001b[0m \u001b[1;33m-\u001b[0m\u001b[1;36m5\u001b[0m\u001b[1;33m)\u001b[0m\u001b[1;33m\u001b[0m\u001b[0m\n",
      "\u001b[1;32m<ipython-input-11-d4061949da1e>\u001b[0m in \u001b[0;36m__init__\u001b[1;34m(self, x, y)\u001b[0m\n\u001b[0;32m      4\u001b[0m             \u001b[0mself\u001b[0m\u001b[1;33m.\u001b[0m\u001b[0mx\u001b[0m \u001b[1;33m=\u001b[0m \u001b[0mx\u001b[0m\u001b[1;33m[\u001b[0m\u001b[1;36m0\u001b[0m\u001b[1;33m]\u001b[0m\u001b[1;33m,\u001b[0m \u001b[0mself\u001b[0m\u001b[1;33m.\u001b[0m\u001b[0my\u001b[0m \u001b[1;33m=\u001b[0m \u001b[0mx\u001b[0m\u001b[1;33m[\u001b[0m\u001b[1;36m1\u001b[0m\u001b[1;33m]\u001b[0m\u001b[1;33m\u001b[0m\u001b[0m\n\u001b[0;32m      5\u001b[0m         \u001b[1;32melse\u001b[0m\u001b[1;33m:\u001b[0m\u001b[1;33m\u001b[0m\u001b[0m\n\u001b[1;32m----> 6\u001b[1;33m             \u001b[0mself\u001b[0m\u001b[1;33m.\u001b[0m\u001b[0mx\u001b[0m \u001b[1;33m=\u001b[0m \u001b[0mx\u001b[0m\u001b[1;33m,\u001b[0m \u001b[0mself\u001b[0m\u001b[1;33m.\u001b[0m\u001b[0my\u001b[0m \u001b[1;33m=\u001b[0m \u001b[0my\u001b[0m\u001b[1;33m\u001b[0m\u001b[0m\n\u001b[0m\u001b[0;32m      7\u001b[0m     \u001b[1;32mdef\u001b[0m \u001b[0mstr\u001b[0m\u001b[1;33m(\u001b[0m\u001b[0mself\u001b[0m\u001b[1;33m)\u001b[0m\u001b[1;33m:\u001b[0m\u001b[1;33m\u001b[0m\u001b[0m\n\u001b[0;32m      8\u001b[0m         \u001b[1;32mreturn\u001b[0m \u001b[0mstr\u001b[0m\u001b[1;33m(\u001b[0m\u001b[0mself\u001b[0m\u001b[1;33m.\u001b[0m\u001b[0mx\u001b[0m\u001b[1;33m)\u001b[0m \u001b[1;33m+\u001b[0m \u001b[1;34m' '\u001b[0m \u001b[1;33m+\u001b[0m \u001b[0mstr\u001b[0m\u001b[1;33m(\u001b[0m\u001b[0mself\u001b[0m\u001b[1;33m.\u001b[0m\u001b[0my\u001b[0m\u001b[1;33m)\u001b[0m\u001b[1;33m\u001b[0m\u001b[0m\n",
      "\u001b[1;31mTypeError\u001b[0m: 'int' object is not iterable"
     ]
    }
   ],
   "source": [
    "class Point:\n",
    "    def __init__(self, x, y = ''):\n",
    "        if type(x) == list:\n",
    "            self.x = x[0], self.y = x[1]\n",
    "        else:\n",
    "            self.x = x, self.y = y\n",
    "    def str(self): \n",
    "        return str(self.x) + ' ' + str(self.y)\n",
    "\n",
    "class Vector(Point):\n",
    "    def __init__(self, a, b):\n",
    "        if type(a) == Point:\n",
    "            self.x = b.x - a.x\n",
    "            self.y = b.y - a.y\n",
    "        else:\n",
    "            super().__init__(a, b)\n",
    "    def __mul__(self, other):\n",
    "        if type(other) == int or type(other) == float:\n",
    "            return (Vector(self.x * other, self.y * other))\n",
    "        if type(other) == Vector:\n",
    "            return (self.x * other.y - self.y * other.x)\n",
    "    def length(self):\n",
    "        return (self.x ** 2 + self.y ** 2) ** 0.5\n",
    "\n",
    "class Triangle:\n",
    "    def __init__(self, a, b, c):\n",
    "        self.a = a\n",
    "        self.b = b\n",
    "        self.c = c\n",
    "    def area(self):\n",
    "        a, b, c = self.a, self.b, self.c\n",
    "        return abs(Vector(a, b) * Vector(a, c)) / 2\n",
    "    \n",
    "a = Point(-3, 0)\n",
    "b = Point(9, 9)\n",
    "c = Point(7, -5)\n",
    "str(Triangle(a, b, c).area())\n",
    "    \n",
    "# fin = open('input.txt', 'r')\n",
    "# fout = open('output.txt', 'w')\n",
    "#fin = list(map(int, fin.read().split()))\n",
    "# a = Point(fin[0:2])\n",
    "# b = Point(fin[2:4])\n",
    "# c = Point(fin[4:6])\n",
    "# fout.write(str(Triangle(a, b, c).area()))\n"
   ]
  }
 ],
 "metadata": {
  "kernelspec": {
   "display_name": "Python 3",
   "language": "python",
   "name": "python3"
  },
  "language_info": {
   "codemirror_mode": {
    "name": "ipython",
    "version": 3
   },
   "file_extension": ".py",
   "mimetype": "text/x-python",
   "name": "python",
   "nbconvert_exporter": "python",
   "pygments_lexer": "ipython3",
   "version": "3.9.5"
  },
  "toc": {
   "base_numbering": 1,
   "nav_menu": {},
   "number_sections": false,
   "sideBar": true,
   "skip_h1_title": false,
   "title_cell": "Table of Contents",
   "title_sidebar": "Contents",
   "toc_cell": false,
   "toc_position": {},
   "toc_section_display": true,
   "toc_window_display": false
  }
 },
 "nbformat": 4,
 "nbformat_minor": 2
}
