{
 "cells": [
  {
   "cell_type": "markdown",
   "metadata": {
    "collapsed": true,
    "id": "OLmxZ78AmjH4",
    "pycharm": {
     "name": "#%% md\n"
    }
   },
   "source": [
    "\n",
    "\n",
    "## Итераторы и генераторы\n",
    "\n",
    "### Итераторы\n",
    "\n",
    "#### Итераторы и  цикл \"for\" \n"
   ]
  },
  {
   "cell_type": "code",
   "execution_count": null,
   "metadata": {
    "id": "1WK8X6zSmjH5",
    "pycharm": {
     "metadata": false,
     "name": "#%%\n"
    }
   },
   "outputs": [],
   "source": [
    "for i in range(5):\n",
    "    print(i)\n",
    "\n",
    "for element in [1, 2, 3]:\n",
    "    print(element)\n",
    "\n",
    "for element in (1, 2, 3):\n",
    "    print(element)\n",
    "\n",
    "for key in {'one': 1, 'two': 2}:\n",
    "    print(key)\n",
    "\n",
    "for char in \"123\":\n",
    "    print(char)\n",
    "\n",
    "for line in open(\"text.txt\"):\n",
    "    print(line, end='')"
   ]
  },
  {
   "cell_type": "markdown",
   "metadata": {
    "id": "lze4b61zmjH-",
    "pycharm": {
     "metadata": false,
     "name": "#%% md\n"
    }
   },
   "source": [
    "#### Под капотом: функции \"iter\" и \"next\".\n"
   ]
  },
  {
   "cell_type": "code",
   "execution_count": null,
   "metadata": {
    "colab": {
     "base_uri": "https://localhost:8080/",
     "height": 270
    },
    "executionInfo": {
     "elapsed": 290,
     "status": "error",
     "timestamp": 1637095892506,
     "user": {
      "displayName": "Tamara Voznesenskaya",
      "photoUrl": "https://lh3.googleusercontent.com/a/default-user=s64",
      "userId": "04398979884761189215"
     },
     "user_tz": -180
    },
    "id": "vmqDk7H3mjH-",
    "outputId": "c8ad4bfd-a5df-4269-ddce-098f4eff97b4",
    "pycharm": {
     "metadata": false,
     "name": "#%%\n"
    }
   },
   "outputs": [],
   "source": [
    "s = 'abc'\n",
    "\n",
    "for letter in s:\n",
    "    pass\n",
    "\n",
    "it = iter(s)\n",
    "print(it)\n",
    "\n",
    "print(next(it))\n",
    "print(next(it))\n",
    "print(next(it))\n",
    "print(next(it))"
   ]
  },
  {
   "cell_type": "markdown",
   "metadata": {
    "id": "ChPK491KmjIL",
    "pycharm": {
     "metadata": false,
     "name": "#%% md\n"
    }
   },
   "source": [
    "### Генераторы\n",
    "\n",
    "\n",
    "Generators are a simple and powerful tool for creating iterators.\n"
   ]
  },
  {
   "cell_type": "code",
   "execution_count": null,
   "metadata": {
    "colab": {
     "base_uri": "https://localhost:8080/",
     "height": 104
    },
    "executionInfo": {
     "elapsed": 1502,
     "status": "ok",
     "timestamp": 1571033104108,
     "user": {
      "displayName": "George Piatsky",
      "photoUrl": "",
      "userId": "11871908103632217156"
     },
     "user_tz": -180
    },
    "id": "U17smtZlmjIM",
    "outputId": "66924768-0214-4a79-9928-d8b43fb54dd3",
    "pycharm": {
     "metadata": false,
     "name": "#%%\n"
    }
   },
   "outputs": [],
   "source": [
    "def reverse(data):\n",
    "    for index in range(len(data)-1, -1, -1):\n",
    "        yield data[index]\n",
    "\n",
    "print(reverse)\n",
    "\n",
    "for char in reverse('golf'):\n",
    "    print(char)\n"
   ]
  },
  {
   "cell_type": "code",
   "execution_count": null,
   "metadata": {
    "id": "oKc0gbfzmjIO",
    "pycharm": {
     "metadata": false,
     "name": "#%%\n"
    }
   },
   "outputs": [],
   "source": [
    "def squares(n):\n",
    "    for i in range(n):\n",
    "        yield i ** 2\n",
    "\n",
    "\n",
    "for x in squares(10):\n",
    "    print(x)\n"
   ]
  },
  {
   "cell_type": "code",
   "execution_count": null,
   "metadata": {
    "id": "jtfDuFa-mjIS",
    "pycharm": {
     "metadata": false,
     "name": "#%%\n"
    }
   },
   "outputs": [],
   "source": [
    "def fact(n):\n",
    "    f = 1\n",
    "    for i in range(1, n):\n",
    "        f *= i\n",
    "        yield f\n",
    "\n",
    "\n",
    "for x in fact(10):\n",
    "    print(x)"
   ]
  },
  {
   "cell_type": "markdown",
   "metadata": {
    "id": "l9Yv15IGmjIU",
    "pycharm": {
     "metadata": false,
     "name": "#%% md\n"
    }
   },
   "source": [
    "### Generator expressions\n"
   ]
  },
  {
   "cell_type": "code",
   "execution_count": null,
   "metadata": {
    "id": "ltQ2RTWvmjIV",
    "pycharm": {
     "metadata": false,
     "name": "#%%\n"
    }
   },
   "outputs": [],
   "source": [
    "for i in (x*x for x in range(10)):\n",
    "    print(i)"
   ]
  },
  {
   "cell_type": "code",
   "execution_count": null,
   "metadata": {
    "id": "XYU1fI8cmjIY",
    "pycharm": {
     "metadata": false,
     "name": "#%%\n"
    }
   },
   "outputs": [],
   "source": [
    "for i in (x for x in range(10) if x % 2 == 0):\n",
    "    print(i)"
   ]
  },
  {
   "cell_type": "code",
   "execution_count": null,
   "metadata": {
    "id": "fx4xvGelmjIa",
    "pycharm": {
     "metadata": false,
     "name": "#%% \n"
    }
   },
   "outputs": [],
   "source": [
    "import math\n",
    "for i in (x for x in range(100) if math.sqrt(x) - math.trunc(math.sqrt(x)) == 0):\n",
    "    print(i)"
   ]
  },
  {
   "cell_type": "code",
   "execution_count": null,
   "metadata": {},
   "outputs": [],
   "source": [
    "help(math.trunc)"
   ]
  },
  {
   "cell_type": "code",
   "execution_count": null,
   "metadata": {
    "id": "YKipVFx8mjIc",
    "pycharm": {
     "metadata": false,
     "name": "#%%\n"
    }
   },
   "outputs": [],
   "source": [
    "s = sum(i*i for i in range(10))\n",
    "print(s)"
   ]
  },
  {
   "cell_type": "code",
   "execution_count": null,
   "metadata": {
    "id": "Xbg41E6-mjIf",
    "pycharm": {
     "metadata": false,
     "name": "#%%\n"
    }
   },
   "outputs": [],
   "source": [
    "from math import pi, sin\n",
    "sin_table = {x: sin(x*pi/180) for x in range(0, 91)}\n",
    "print(sin_table)\n"
   ]
  },
  {
   "cell_type": "code",
   "execution_count": null,
   "metadata": {
    "id": "bL3l3AfGmjIh",
    "pycharm": {
     "metadata": false,
     "name": "#%%\n"
    }
   },
   "outputs": [],
   "source": [
    "data = 'golf'\n",
    "letter_list = list(data[i] for i in range(len(data)-1, -1, -1))\n",
    "print(letter_list)\n"
   ]
  },
  {
   "cell_type": "code",
   "execution_count": null,
   "metadata": {
    "id": "kakmSdv4mjIk",
    "pycharm": {
     "metadata": false,
     "name": "#%%\n"
    }
   },
   "outputs": [],
   "source": [
    "print([x + y for x in 'abc' for y in 'lmn'])\n"
   ]
  },
  {
   "cell_type": "markdown",
   "metadata": {
    "id": "VjiJemgdmjIm",
    "pycharm": {
     "metadata": false,
     "name": "#%% md\n"
    }
   },
   "source": [
    "### Functional tools\n",
    "\n",
    "#### filter\n"
   ]
  },
  {
   "cell_type": "code",
   "execution_count": null,
   "metadata": {
    "colab": {
     "base_uri": "https://localhost:8080/"
    },
    "executionInfo": {
     "elapsed": 1408,
     "status": "ok",
     "timestamp": 1604256579364,
     "user": {
      "displayName": "Georgii Zhulikov",
      "photoUrl": "https://lh3.googleusercontent.com/a-/AOh14Giiw9KeBGHLuSFSbGbBOInNZfbi9tDn5rdzWTuqYg=s64",
      "userId": "04047607669073150518"
     },
     "user_tz": -180
    },
    "id": "4NIqVdODmjIn",
    "outputId": "908d3630-0bc9-46e2-8cda-60610eac54b2",
    "pycharm": {
     "metadata": false,
     "name": "#%%\n"
    }
   },
   "outputs": [],
   "source": [
    "print(*filter(lambda x: x % 2 != 0, range(10)))\n"
   ]
  },
  {
   "cell_type": "code",
   "execution_count": null,
   "metadata": {
    "colab": {
     "base_uri": "https://localhost:8080/"
    },
    "executionInfo": {
     "elapsed": 1185,
     "status": "ok",
     "timestamp": 1604256590011,
     "user": {
      "displayName": "Georgii Zhulikov",
      "photoUrl": "https://lh3.googleusercontent.com/a-/AOh14Giiw9KeBGHLuSFSbGbBOInNZfbi9tDn5rdzWTuqYg=s64",
      "userId": "04047607669073150518"
     },
     "user_tz": -180
    },
    "id": "DJr0kK4UmjIq",
    "outputId": "980fa081-2bb0-4318-c92f-3ec79f8bee07",
    "pycharm": {
     "metadata": false,
     "name": "#%%\n"
    }
   },
   "outputs": [],
   "source": [
    "import math\n",
    "print(*filter(lambda x: math.sqrt(x) - int(math.sqrt(x)) == 0, range(100)))\n"
   ]
  },
  {
   "cell_type": "markdown",
   "metadata": {
    "id": "GP5EZIFhmjIs",
    "pycharm": {
     "metadata": false,
     "name": "#%% md\n"
    }
   },
   "source": [
    "#### map\n"
   ]
  },
  {
   "cell_type": "code",
   "execution_count": null,
   "metadata": {
    "colab": {
     "base_uri": "https://localhost:8080/",
     "height": 35
    },
    "executionInfo": {
     "elapsed": 726,
     "status": "ok",
     "timestamp": 1571013543844,
     "user": {
      "displayName": "George Piatsky",
      "photoUrl": "",
      "userId": "11871908103632217156"
     },
     "user_tz": -180
    },
    "id": "3Xuc88tXmjIt",
    "outputId": "d81a9122-7bff-4e3d-c783-227883dba2c1",
    "pycharm": {
     "metadata": false,
     "name": "#%%\n"
    }
   },
   "outputs": [],
   "source": [
    "print(*map(lambda x: x * x, range(10)))\n"
   ]
  },
  {
   "cell_type": "code",
   "execution_count": null,
   "metadata": {
    "colab": {
     "base_uri": "https://localhost:8080/"
    },
    "executionInfo": {
     "elapsed": 931,
     "status": "ok",
     "timestamp": 1604256607947,
     "user": {
      "displayName": "Georgii Zhulikov",
      "photoUrl": "https://lh3.googleusercontent.com/a-/AOh14Giiw9KeBGHLuSFSbGbBOInNZfbi9tDn5rdzWTuqYg=s64",
      "userId": "04047607669073150518"
     },
     "user_tz": -180
    },
    "id": "G0k_L89PmjIv",
    "outputId": "602d7e98-3bce-4965-bfe1-a5cb65dddac7",
    "pycharm": {
     "metadata": false,
     "name": "#%%\n"
    }
   },
   "outputs": [],
   "source": [
    "print(*map(lambda c: '_' + c.upper() + '_' , 'hello'))\n"
   ]
  },
  {
   "cell_type": "markdown",
   "metadata": {
    "id": "t-YU6e6smjI0",
    "pycharm": {
     "metadata": false,
     "name": "#%% md\n"
    }
   },
   "source": [
    "#### reduce\n"
   ]
  },
  {
   "cell_type": "code",
   "execution_count": null,
   "metadata": {
    "colab": {
     "base_uri": "https://localhost:8080/"
    },
    "executionInfo": {
     "elapsed": 840,
     "status": "ok",
     "timestamp": 1604256622679,
     "user": {
      "displayName": "Georgii Zhulikov",
      "photoUrl": "https://lh3.googleusercontent.com/a-/AOh14Giiw9KeBGHLuSFSbGbBOInNZfbi9tDn5rdzWTuqYg=s64",
      "userId": "04047607669073150518"
     },
     "user_tz": -180
    },
    "id": "VCsi10NVmjI1",
    "outputId": "c85f8792-f481-47d6-b958-eb0d59b408ac",
    "pycharm": {
     "metadata": false,
     "name": "#%%\n"
    }
   },
   "outputs": [],
   "source": [
    "from functools import reduce\n",
    "\n",
    "# Arithmetic series\n",
    "print(reduce(lambda a, b: a + b, range(1, 5)))\n",
    "\n",
    "# Factorial\n",
    "print(reduce(lambda a, b: a * b, range(1, 5)))\n"
   ]
  },
  {
   "cell_type": "markdown",
   "metadata": {
    "id": "kyYoYm6YmjI6",
    "pycharm": {
     "metadata": false,
     "name": "#%% md\n"
    }
   },
   "source": [
    "#### zip\n"
   ]
  },
  {
   "cell_type": "code",
   "execution_count": null,
   "metadata": {
    "id": "sAwLLqlEmjI7",
    "pycharm": {
     "metadata": false,
     "name": "#%%\n"
    }
   },
   "outputs": [],
   "source": [
    "x_list = [10, 20, 30]\n",
    "y_list = [7, 5, 3]\n",
    "s = sum(x*y for x, y in zip(x_list, y_list))\n",
    "print(s)\n"
   ]
  },
  {
   "cell_type": "markdown",
   "metadata": {
    "id": "7XIPLeuCmjI-",
    "pycharm": {
     "metadata": false,
     "name": "#%% md\n"
    }
   },
   "source": [
    "#### enumerate\n"
   ]
  },
  {
   "cell_type": "code",
   "execution_count": null,
   "metadata": {
    "id": "IyJwmk9VmjI_",
    "pycharm": {
     "metadata": false,
     "name": "#%%\n"
    }
   },
   "outputs": [],
   "source": [
    "for i, x in enumerate(x * x for x in range(10)):\n",
    "    print(i, \" * \", i, \" = \", x)\n"
   ]
  },
  {
   "cell_type": "markdown",
   "metadata": {
    "id": "yhybOpbMNKFz"
   },
   "source": [
    "__partial__"
   ]
  },
  {
   "cell_type": "code",
   "execution_count": null,
   "metadata": {
    "colab": {
     "base_uri": "https://localhost:8080/"
    },
    "executionInfo": {
     "elapsed": 765,
     "status": "ok",
     "timestamp": 1604256660193,
     "user": {
      "displayName": "Georgii Zhulikov",
      "photoUrl": "https://lh3.googleusercontent.com/a-/AOh14Giiw9KeBGHLuSFSbGbBOInNZfbi9tDn5rdzWTuqYg=s64",
      "userId": "04047607669073150518"
     },
     "user_tz": -180
    },
    "id": "9EOUSBe_NKF1",
    "outputId": "ff8d1f4a-f336-46c3-8a79-8de8c39ae837"
   },
   "outputs": [],
   "source": [
    "from functools import partial\n",
    "\n",
    "binStrToInt = partial(int, base=2)\n",
    "print(binStrToInt('10010'))\n"
   ]
  },
  {
   "cell_type": "markdown",
   "metadata": {
    "id": "GzEnAd9zTtB_"
   },
   "source": [
    "## Task 1\n",
    "\n",
    "Implement a generator function that takes several sequences as input and return their elements as a single sequence. First all the elements of the first argument, then the second one, and so on.\n"
   ]
  },
  {
   "cell_type": "code",
   "execution_count": null,
   "metadata": {
    "colab": {
     "base_uri": "https://localhost:8080/"
    },
    "executionInfo": {
     "elapsed": 680,
     "status": "ok",
     "timestamp": 1604259664713,
     "user": {
      "displayName": "Georgii Zhulikov",
      "photoUrl": "https://lh3.googleusercontent.com/a-/AOh14Giiw9KeBGHLuSFSbGbBOInNZfbi9tDn5rdzWTuqYg=s64",
      "userId": "04047607669073150518"
     },
     "user_tz": -180
    },
    "id": "OrULlgrxUq4H",
    "outputId": "f7af7280-1684-41f4-89d4-b5e56bd0442c"
   },
   "outputs": [],
   "source": [
    "sequence1 = '123'\n",
    "sequence2 = 'ABC'\n",
    "# implement the function 'combine'\n",
    "sequence_combined = combine(sequence1, sequence2)\n",
    "for symbol in sequence_combined:\n",
    "    print(symbol, end=' ')\n",
    "\n",
    "# the output should be\n",
    "# 1 2 3 A B C\n"
   ]
  },
  {
   "cell_type": "markdown",
   "metadata": {
    "id": "lhFJdAVVYbT6"
   },
   "source": [
    "## Task 2\n",
    "\n",
    "For a number N, output the list of all prime numbers below N. Use the function `math.sqrt` as opposed to `x**0.5` to compute the square root.\n",
    "\n",
    "Use the function `filter` to get the output list."
   ]
  },
  {
   "cell_type": "code",
   "execution_count": null,
   "metadata": {
    "id": "uPG6X7lNYupy"
   },
   "outputs": [],
   "source": []
  },
  {
   "cell_type": "markdown",
   "metadata": {
    "id": "NUrf9MGqSY0h"
   },
   "source": [
    "### itertools\n",
    "\n",
    "Library to make various iterators to automate common operations.\n",
    "\n",
    "https://docs.python.org/3.8/library/itertools.html\n",
    "\n"
   ]
  },
  {
   "cell_type": "markdown",
   "metadata": {
    "id": "vZjl7v4joUC_"
   },
   "source": [
    "**islice()**\n",
    "\n",
    "Makes slices of any iterable objects."
   ]
  },
  {
   "cell_type": "code",
   "execution_count": null,
   "metadata": {
    "id": "LoJlZ3NQo0pa"
   },
   "outputs": [],
   "source": [
    "text_data = '''First line has data\n",
    "### Second line doesn't have data\n",
    "Third line has data\n",
    "### Every even line does not contain data\n",
    "Every odd line contains data\n",
    "### No data\n",
    "Data here\n",
    "### No data\n",
    "Data here\n",
    "'''\n",
    "\n",
    "with open('slicefile.txt', 'w') as output_file:\n",
    "    output_file.write(text_data)"
   ]
  },
  {
   "cell_type": "code",
   "execution_count": null,
   "metadata": {
    "colab": {
     "base_uri": "https://localhost:8080/"
    },
    "executionInfo": {
     "elapsed": 678,
     "status": "ok",
     "timestamp": 1604315580246,
     "user": {
      "displayName": "Georgii Zhulikov",
      "photoUrl": "https://lh3.googleusercontent.com/a-/AOh14Giiw9KeBGHLuSFSbGbBOInNZfbi9tDn5rdzWTuqYg=s64",
      "userId": "04047607669073150518"
     },
     "user_tz": -180
    },
    "id": "M_cvFAOCp4NF",
    "outputId": "fbd4982e-1e33-45f3-8c28-d3891cb29906"
   },
   "outputs": [],
   "source": [
    "with open('slicefile.txt') as input_file:\n",
    "    for line in input_file:\n",
    "        print(line.strip())"
   ]
  },
  {
   "cell_type": "code",
   "execution_count": null,
   "metadata": {
    "colab": {
     "base_uri": "https://localhost:8080/"
    },
    "executionInfo": {
     "elapsed": 626,
     "status": "ok",
     "timestamp": 1604315582643,
     "user": {
      "displayName": "Georgii Zhulikov",
      "photoUrl": "https://lh3.googleusercontent.com/a-/AOh14Giiw9KeBGHLuSFSbGbBOInNZfbi9tDn5rdzWTuqYg=s64",
      "userId": "04047607669073150518"
     },
     "user_tz": -180
    },
    "id": "9KkXJkKRoRRr",
    "outputId": "6b61cd66-67d9-4bde-ca79-a63ef7d22d84"
   },
   "outputs": [],
   "source": [
    "import itertools\n",
    "\n",
    "with open('slicefile.txt') as input_file:\n",
    "  # itertools.islice(sequence, start, stop, step)\n",
    "    input_file_even = itertools.islice(input_file, 0, None, 2)\n",
    "    for line in input_file_even:\n",
    "        print(line.strip())"
   ]
  },
  {
   "cell_type": "code",
   "execution_count": null,
   "metadata": {
    "colab": {
     "base_uri": "https://localhost:8080/"
    },
    "executionInfo": {
     "elapsed": 631,
     "status": "ok",
     "timestamp": 1604315632574,
     "user": {
      "displayName": "Georgii Zhulikov",
      "photoUrl": "https://lh3.googleusercontent.com/a-/AOh14Giiw9KeBGHLuSFSbGbBOInNZfbi9tDn5rdzWTuqYg=s64",
      "userId": "04047607669073150518"
     },
     "user_tz": -180
    },
    "id": "f7QqyO1jNKGH",
    "outputId": "d8994674-656e-4b06-86f1-df535cc4f17a"
   },
   "outputs": [],
   "source": [
    "import itertools\n",
    "\n",
    "print(*(itertools.combinations('123456', 2)), sep='\\n')"
   ]
  },
  {
   "cell_type": "markdown",
   "metadata": {
    "id": "9bXr7292qgPi"
   },
   "source": [
    "## Task 3\n",
    "\n",
    "You are given a list of data pairs. The first element of a pair is a year, the second one is a data point.\n",
    "\n",
    "Split the data into groups by year using the `itertools.groupby()` function. Then for every year output data points containing numbers over 1000. Use the function `filter` to do it.\n",
    "\n",
    "Do not use any lists / tuples / sets / dictionaries as variables. Solve everything using `groupby`, `filter`, `map` and other tools for iterable objects.\n",
    "\n",
    "You can learn how to use `groupby` here: https://docs.python.org/3.9/library/itertools.html#itertools.groupby\n",
    "\n",
    "The key part is this:\n",
    "\n",
    "```python\n",
    "for k, g in groupby(data, keyfunc):\n",
    "```\n",
    "\n",
    "You output should be\n",
    "\n",
    "```\n",
    "Data for the year 1988\n",
    "4636 1808 1108\n",
    "Data for the year 1989\n",
    "3517\n",
    "Data for the year 1990\n",
    "2276 2407 1798\n",
    "```"
   ]
  },
  {
   "cell_type": "code",
   "execution_count": null,
   "metadata": {
    "id": "MKu6hsG-zTdg"
   },
   "outputs": [],
   "source": [
    "import itertools\n",
    "\n",
    "data = [\n",
    "    (1988, 330),\n",
    "    (1988, 4636),\n",
    "    (1988, 1808),\n",
    "    (1988, 1108),\n",
    "    (1988, 766),\n",
    "    (1988, 383),\n",
    "    (1988, 411),\n",
    "    (1988, 363),\n",
    "    (1989, 76),\n",
    "    (1989, 202),\n",
    "    (1989, 3517),\n",
    "    (1989, 451),\n",
    "    (1989, 132),\n",
    "    (1989, 141),\n",
    "    (1989, 193),\n",
    "    (1990, 111),\n",
    "    (1990, 2276),\n",
    "    (1990, 2407),\n",
    "    (1990, 405),\n",
    "    (1990, 151),\n",
    "    (1990, 459),\n",
    "    (1990, 1798)\n",
    "]"
   ]
  },
  {
   "cell_type": "markdown",
   "metadata": {
    "id": "X0CyU6ic8yT6"
   },
   "source": [
    "\n",
    "\n",
    "---\n",
    "\n",
    "\n",
    "\n",
    "## Appendix\n",
    "\n",
    "The following section is included only as trivia. It includes additional information that may be a future workshop topic.\n"
   ]
  },
  {
   "cell_type": "markdown",
   "metadata": {
    "id": "Zz36LI1fmjIC",
    "pycharm": {
     "metadata": false,
     "name": "#%% md\n"
    }
   },
   "source": [
    "\n",
    "### How iterators are implemented\n",
    "\n",
    "Iterator that returns letters of a string in a reversed order:"
   ]
  },
  {
   "cell_type": "code",
   "execution_count": null,
   "metadata": {
    "id": "gbbgHq0amjID",
    "pycharm": {
     "metadata": false,
     "name": "#%%\n"
    }
   },
   "outputs": [],
   "source": [
    "class Reverse:\n",
    "    \"\"\"Iterator for looping over a sequence backwards.\"\"\"\n",
    "\n",
    "    def __init__(self, data):\n",
    "        self.data = data\n",
    "        self.index = len(data)\n",
    "\n",
    "    def __iter__(self):\n",
    "        return self\n",
    "\n",
    "    def __next__(self):\n",
    "        if self.index == 0:\n",
    "            raise StopIteration\n",
    "        self.index = self.index - 1\n",
    "        return self.data[self.index]\n",
    "\n",
    "\n",
    "rev = Reverse('spam')\n",
    "print(iter(rev))\n",
    "\n",
    "for char in rev:\n",
    "    print(char)\n"
   ]
  },
  {
   "cell_type": "markdown",
   "metadata": {
    "id": "PseHLWJA737w"
   },
   "source": [
    "Iterator that returns factorials"
   ]
  },
  {
   "cell_type": "code",
   "execution_count": null,
   "metadata": {
    "id": "Yat_z3CM73Jo"
   },
   "outputs": [],
   "source": [
    "class Fact:\n",
    "    \"\"\"Iterator for calculating factorials.\"\"\"\n",
    "\n",
    "    def __init__(self, limit):\n",
    "        self.n = 1\n",
    "        self.limit = limit\n",
    "        self.data = 1\n",
    "\n",
    "    def __iter__(self):\n",
    "        return self\n",
    "\n",
    "    def __next__(self):\n",
    "        if self.n >= self.limit:\n",
    "            raise StopIteration\n",
    "        self.data *= self.n\n",
    "        self.n += 1\n",
    "        return self.data\n",
    "\n",
    "\n",
    "for x in Fact(10):\n",
    "    print(x)\n"
   ]
  }
 ],
 "metadata": {
  "colab": {
   "name": "Iterators and Generators.ipynb",
   "provenance": [
    {
     "file_id": "1H-n8NQRQZMUHJswm-eVCSIVEO7OGp_4B",
     "timestamp": 1604256552885
    }
   ],
   "toc_visible": true
  },
  "kernelspec": {
   "display_name": "Python 3",
   "language": "python",
   "name": "python3"
  },
  "language_info": {
   "codemirror_mode": {
    "name": "ipython",
    "version": 3
   },
   "file_extension": ".py",
   "mimetype": "text/x-python",
   "name": "python",
   "nbconvert_exporter": "python",
   "pygments_lexer": "ipython3",
   "version": "3.9.5"
  },
  "nteract": {
   "version": "0.28.0"
  },
  "toc": {
   "base_numbering": 1,
   "nav_menu": {},
   "number_sections": false,
   "sideBar": true,
   "skip_h1_title": false,
   "title_cell": "Table of Contents",
   "title_sidebar": "Contents",
   "toc_cell": false,
   "toc_position": {},
   "toc_section_display": true,
   "toc_window_display": false
  }
 },
 "nbformat": 4,
 "nbformat_minor": 1
}
