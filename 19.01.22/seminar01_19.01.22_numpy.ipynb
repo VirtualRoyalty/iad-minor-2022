{
 "cells": [
  {
   "cell_type": "markdown",
   "metadata": {},
   "source": [
    "# Numpy и основы линейной алгебры\n",
    "\n",
    "семинарист: Альперович Вадим \n",
    "\n",
    "```tg: @vadik_alp```\n",
    "\n",
    "---"
   ]
  },
  {
   "cell_type": "markdown",
   "metadata": {},
   "source": [
    "# Introduction"
   ]
  },
  {
   "cell_type": "markdown",
   "metadata": {},
   "source": [
    "<img src=\"https://ipython.org/_static/IPy_header.png\"></img>\n",
    "\n",
    "### IPython\n",
    "является оболочкой **Read-Evaluate-Print Loop** для интерактивной разработки Python. Он поддерживает интерактивную визуализацию с использованием графических инструментов GUI и предоставляет ядро ​​для Jupyter."
   ]
  },
  {
   "cell_type": "markdown",
   "metadata": {},
   "source": [
    "<p><img alt=\"jupyter logo\" width=\"90\" src=\"https://upload.wikimedia.org/wikipedia/commons/thumb/3/38/Jupyter_logo.svg/1200px-Jupyter_logo.svg.png\" hspace=\"50px\" align=\"left\" vspace=\"0px\"></p>\n",
    "\n",
    "### Jupyter Notebook \n",
    "\n",
    "серверно-клиентское приложение, позволяющее редактировать и запускать ipython notebook через веб-браузер. Jupyter Notebook может быть запущено на локальном рабочей машине, не требующей доступа в Интернет, или может быть установлено на удаленном сервере и доступно через Интернет."
   ]
  },
  {
   "cell_type": "markdown",
   "metadata": {},
   "source": [
    "**Useful links:**\n",
    "\n",
    "- Anaconda: https://www.anaconda.com/products/individual\n",
    "- Miniconda: https://docs.conda.io/en/latest/miniconda.html\n",
    "- Markdown: https://www.markdownguide.org/basic-syntax"
   ]
  },
  {
   "cell_type": "markdown",
   "metadata": {},
   "source": [
    "<p><img alt=\"Colaboratory logo\" width=\"100\" src=\"https://colab.research.google.com/img/colab_favicon_256px.png\" hspace=\"10px\" align=\"left\" vspace=\"0px\"></p>\n",
    "\n",
    "\n",
    "### Google Colaboratory\n",
    "\n",
    "\n",
    "Colaboratory позволяет писать и выполнять код Python в браузере. При этом:\n",
    "- не требуется никакой настройки;\n",
    "- вы получаете бесплатный доступ к графическим процессорам;\n",
    "- предоставлять доступ к документам другим людям очень просто.\n"
   ]
  },
  {
   "cell_type": "markdown",
   "metadata": {},
   "source": [
    "# Introduction to Jupyter"
   ]
  },
  {
   "cell_type": "code",
   "execution_count": 1,
   "metadata": {
    "ExecuteTime": {
     "end_time": "2022-01-19T10:16:36.557129Z",
     "start_time": "2022-01-19T10:16:36.546129Z"
    }
   },
   "outputs": [
    {
     "name": "stdout",
     "output_type": "stream",
     "text": [
      "1\n"
     ]
    }
   ],
   "source": [
    "print(1)"
   ]
  },
  {
   "cell_type": "code",
   "execution_count": 3,
   "metadata": {
    "ExecuteTime": {
     "end_time": "2022-01-19T10:17:39.046887Z",
     "start_time": "2022-01-19T10:17:39.039886Z"
    }
   },
   "outputs": [
    {
     "data": {
      "text/plain": [
       "1"
      ]
     },
     "execution_count": 3,
     "metadata": {},
     "output_type": "execute_result"
    }
   ],
   "source": [
    "x = 1\n",
    "x"
   ]
  },
  {
   "cell_type": "code",
   "execution_count": 4,
   "metadata": {
    "ExecuteTime": {
     "end_time": "2022-01-19T10:17:39.877890Z",
     "start_time": "2022-01-19T10:17:39.873893Z"
    }
   },
   "outputs": [
    {
     "name": "stdout",
     "output_type": "stream",
     "text": [
      "x: 1\n"
     ]
    }
   ],
   "source": [
    "print(\"x:\", x)"
   ]
  },
  {
   "cell_type": "markdown",
   "metadata": {},
   "source": [
    "Одно из самых полезных **преимуществ** – встроенный редактор $\\LaTeX$, который позволяет просто набирать и оформлять формулы:\n",
    "\n",
    "<br>\n",
    "\n",
    "$$ \\sum_{i=1}^Nx_i^n + y^n = \\frac{z^n}{10!}$$"
   ]
  },
  {
   "cell_type": "code",
   "execution_count": 5,
   "metadata": {
    "ExecuteTime": {
     "end_time": "2022-01-19T10:19:17.689867Z",
     "start_time": "2022-01-19T10:19:17.681862Z"
    }
   },
   "outputs": [
    {
     "name": "stdout",
     "output_type": "stream",
     "text": [
      "0\n",
      "Wall time: 0 ns\n"
     ]
    }
   ],
   "source": [
    "%%time\n",
    "print(0)"
   ]
  },
  {
   "cell_type": "code",
   "execution_count": 6,
   "metadata": {
    "ExecuteTime": {
     "end_time": "2022-01-19T10:19:37.524012Z",
     "start_time": "2022-01-19T10:19:37.516010Z"
    }
   },
   "outputs": [
    {
     "data": {
      "text/plain": [
       "'D:\\\\MAINOR_ML\\\\19.01.22'"
      ]
     },
     "execution_count": 6,
     "metadata": {},
     "output_type": "execute_result"
    }
   ],
   "source": [
    "%pwd"
   ]
  },
  {
   "cell_type": "code",
   "execution_count": 8,
   "metadata": {
    "ExecuteTime": {
     "end_time": "2022-01-19T10:20:30.840790Z",
     "start_time": "2022-01-19T10:20:30.834824Z"
    }
   },
   "outputs": [],
   "source": [
    "# !pip freeze"
   ]
  },
  {
   "cell_type": "markdown",
   "metadata": {},
   "source": [
    "# Numpy\n",
    "\n",
    "<p><img alt=\"Colaboratory logo\"  width=\"300\" src=\"https://upload.wikimedia.org/wikipedia/commons/thumb/3/31/NumPy_logo_2020.svg/1280px-NumPy_logo_2020.svg.png\" hspace=\"10px\" vspace=\"0px\"></p>\n",
    "\n",
    "\n",
    "\n",
    "— библиотека с открытым исходным кодом для языка программирования Python. Возможности: поддержка многомерных массивов; поддержка высокоуровневых математических функций, предназначенных для работы с многомерными массивами."
   ]
  },
  {
   "cell_type": "markdown",
   "metadata": {},
   "source": [
    "Useful links:\n",
    "- [Why is NumPy fast?](https://numpy.org/doc/stable/user/whatisnumpy.html)\n",
    "- [NumPy documentation](https://numpy.org/doc/stable/user/absolute_beginners.html)\n",
    "- [100 задач NumPy](https://pythonworld.ru/numpy/100-exercises.html)"
   ]
  },
  {
   "cell_type": "code",
   "execution_count": 9,
   "metadata": {
    "ExecuteTime": {
     "end_time": "2022-01-19T10:24:21.594497Z",
     "start_time": "2022-01-19T10:24:18.048005Z"
    }
   },
   "outputs": [
    {
     "name": "stdout",
     "output_type": "stream",
     "text": [
      "Requirement already satisfied: numpy in d:\\conda\\lib\\site-packages (1.22.1)\n"
     ]
    }
   ],
   "source": [
    "!pip install numpy"
   ]
  },
  {
   "cell_type": "code",
   "execution_count": 10,
   "metadata": {
    "ExecuteTime": {
     "end_time": "2022-01-19T10:24:34.098462Z",
     "start_time": "2022-01-19T10:24:33.688409Z"
    }
   },
   "outputs": [],
   "source": [
    "import numpy as np"
   ]
  },
  {
   "cell_type": "markdown",
   "metadata": {},
   "source": [
    "### Creating matrix / vector"
   ]
  },
  {
   "cell_type": "code",
   "execution_count": 12,
   "metadata": {
    "ExecuteTime": {
     "end_time": "2022-01-19T10:29:22.295024Z",
     "start_time": "2022-01-19T10:29:22.274438Z"
    }
   },
   "outputs": [
    {
     "data": {
      "text/plain": [
       "array([[26,  1,  0],\n",
       "       [ 5, 13,  5],\n",
       "       [18,  3,  1],\n",
       "       [13, 10,  0]])"
      ]
     },
     "execution_count": 12,
     "metadata": {},
     "output_type": "execute_result"
    }
   ],
   "source": [
    "lists = [[26, 1, 0], [5, 13, 5], [18, 3, 1], [13, 10, 0]]\n",
    "data = np.array(lists, dtype='int')\n",
    "data"
   ]
  },
  {
   "cell_type": "code",
   "execution_count": 13,
   "metadata": {
    "ExecuteTime": {
     "end_time": "2022-01-19T10:30:19.889529Z",
     "start_time": "2022-01-19T10:30:19.879533Z"
    }
   },
   "outputs": [
    {
     "data": {
      "text/plain": [
       "(4, 3)"
      ]
     },
     "execution_count": 13,
     "metadata": {},
     "output_type": "execute_result"
    }
   ],
   "source": [
    "data.shape"
   ]
  },
  {
   "cell_type": "code",
   "execution_count": 14,
   "metadata": {
    "ExecuteTime": {
     "end_time": "2022-01-19T10:30:49.568137Z",
     "start_time": "2022-01-19T10:30:49.511549Z"
    }
   },
   "outputs": [
    {
     "data": {
      "text/plain": [
       "dtype('int32')"
      ]
     },
     "execution_count": 14,
     "metadata": {},
     "output_type": "execute_result"
    }
   ],
   "source": [
    "data.dtype"
   ]
  },
  {
   "cell_type": "code",
   "execution_count": 18,
   "metadata": {
    "ExecuteTime": {
     "end_time": "2022-01-19T10:33:05.647670Z",
     "start_time": "2022-01-19T10:33:05.626017Z"
    }
   },
   "outputs": [
    {
     "data": {
      "text/plain": [
       "array([[1., 0., 0., 0., 0.],\n",
       "       [0., 1., 0., 0., 0.],\n",
       "       [0., 0., 1., 0., 0.],\n",
       "       [0., 0., 0., 1., 0.],\n",
       "       [0., 0., 0., 0., 1.]])"
      ]
     },
     "execution_count": 18,
     "metadata": {},
     "output_type": "execute_result"
    }
   ],
   "source": [
    "matrix = np.eye(5) # np.ones, np.empty\n",
    "matrix"
   ]
  },
  {
   "cell_type": "code",
   "execution_count": 19,
   "metadata": {
    "ExecuteTime": {
     "end_time": "2022-01-19T10:33:33.247673Z",
     "start_time": "2022-01-19T10:33:33.233668Z"
    }
   },
   "outputs": [
    {
     "name": "stdout",
     "output_type": "stream",
     "text": [
      "[0 1 2 3 4]\n",
      "(5,)\n"
     ]
    }
   ],
   "source": [
    "vec = np.arange(5)\n",
    "print(vec)\n",
    "print(vec.shape)"
   ]
  },
  {
   "cell_type": "code",
   "execution_count": 23,
   "metadata": {
    "ExecuteTime": {
     "end_time": "2022-01-19T10:34:36.494388Z",
     "start_time": "2022-01-19T10:34:36.476358Z"
    }
   },
   "outputs": [
    {
     "data": {
      "text/plain": [
       "array([[ 3, 88, 36, 93, 66, 22, 41, 71,  3, 17],\n",
       "       [34, 97, 86, 28, 53, 38, 74, 81,  5,  2],\n",
       "       [63,  4, 64,  6, 63, 42, 90, 94,  6, 89],\n",
       "       [11, 74, 59, 29, 20, 56, 66, 64, 33, 93],\n",
       "       [ 3, 24,  9, 62, 63, 90, 84,  2, 42, 98]])"
      ]
     },
     "execution_count": 23,
     "metadata": {},
     "output_type": "execute_result"
    }
   ],
   "source": [
    "np.random.randint(100, size=(5, 10))"
   ]
  },
  {
   "cell_type": "code",
   "execution_count": 26,
   "metadata": {
    "ExecuteTime": {
     "end_time": "2022-01-19T10:35:31.122590Z",
     "start_time": "2022-01-19T10:35:31.108018Z"
    }
   },
   "outputs": [
    {
     "data": {
      "text/plain": [
       "array([[0.8664, 0.0271, 0.7495, 0.5739, 0.1222, 0.4674, 0.7461, 0.6411,\n",
       "        0.511 , 0.3472],\n",
       "       [0.0706, 0.466 , 0.4472, 0.4997, 0.0694, 0.331 , 0.7525, 0.5356,\n",
       "        0.2618, 0.393 ],\n",
       "       [0.4928, 0.0244, 0.8627, 0.2051, 0.0832, 0.7783, 0.8106, 0.171 ,\n",
       "        0.4244, 0.037 ],\n",
       "       [0.307 , 0.5896, 0.0428, 0.8242, 0.8109, 0.1616, 0.4597, 0.3571,\n",
       "        0.8995, 0.6637],\n",
       "       [0.2387, 0.2928, 0.1601, 0.7158, 0.9184, 0.3832, 0.7816, 0.7846,\n",
       "        0.9542, 0.9915]])"
      ]
     },
     "execution_count": 26,
     "metadata": {},
     "output_type": "execute_result"
    }
   ],
   "source": [
    "np.set_printoptions(precision=4)\n",
    "np.random.rand(5, 10)"
   ]
  },
  {
   "cell_type": "code",
   "execution_count": 27,
   "metadata": {
    "ExecuteTime": {
     "end_time": "2022-01-19T10:35:52.109707Z",
     "start_time": "2022-01-19T10:35:52.102673Z"
    }
   },
   "outputs": [],
   "source": [
    "?np.array"
   ]
  },
  {
   "cell_type": "code",
   "execution_count": 29,
   "metadata": {
    "ExecuteTime": {
     "end_time": "2022-01-19T10:36:23.665495Z",
     "start_time": "2022-01-19T10:36:23.661476Z"
    }
   },
   "outputs": [],
   "source": [
    "# help(np.array)"
   ]
  },
  {
   "cell_type": "code",
   "execution_count": 31,
   "metadata": {
    "ExecuteTime": {
     "end_time": "2022-01-19T10:37:02.645036Z",
     "start_time": "2022-01-19T10:37:02.640002Z"
    }
   },
   "outputs": [
    {
     "data": {
      "text/plain": [
       "(3, 2, 7)"
      ]
     },
     "execution_count": 31,
     "metadata": {},
     "output_type": "execute_result"
    }
   ],
   "source": [
    "np.zeros((3, 2, 7)).shape"
   ]
  },
  {
   "cell_type": "markdown",
   "metadata": {},
   "source": [
    "### Operations"
   ]
  },
  {
   "cell_type": "markdown",
   "metadata": {},
   "source": [
    "* element-wise\n",
    "* aggregations\n",
    "* matrix"
   ]
  },
  {
   "cell_type": "code",
   "execution_count": 33,
   "metadata": {
    "ExecuteTime": {
     "end_time": "2022-01-19T10:39:28.291859Z",
     "start_time": "2022-01-19T10:39:28.287859Z"
    }
   },
   "outputs": [
    {
     "name": "stdout",
     "output_type": "stream",
     "text": [
      "<class 'numpy.ndarray'>\n"
     ]
    }
   ],
   "source": [
    "print(type(data))"
   ]
  },
  {
   "cell_type": "code",
   "execution_count": 32,
   "metadata": {
    "ExecuteTime": {
     "end_time": "2022-01-19T10:39:21.717292Z",
     "start_time": "2022-01-19T10:39:21.712319Z"
    }
   },
   "outputs": [
    {
     "name": "stdout",
     "output_type": "stream",
     "text": [
      "[[26  1  0]\n",
      " [ 5 13  5]\n",
      " [18  3  1]\n",
      " [13 10  0]]\n"
     ]
    }
   ],
   "source": [
    "print(data)"
   ]
  },
  {
   "cell_type": "code",
   "execution_count": 34,
   "metadata": {
    "ExecuteTime": {
     "end_time": "2022-01-19T10:39:36.399270Z",
     "start_time": "2022-01-19T10:39:36.394231Z"
    }
   },
   "outputs": [
    {
     "data": {
      "text/plain": [
       "array([[52,  2,  0],\n",
       "       [10, 26, 10],\n",
       "       [36,  6,  2],\n",
       "       [26, 20,  0]])"
      ]
     },
     "execution_count": 34,
     "metadata": {},
     "output_type": "execute_result"
    }
   ],
   "source": [
    "# element-wise\n",
    "data + data"
   ]
  },
  {
   "cell_type": "code",
   "execution_count": 35,
   "metadata": {
    "ExecuteTime": {
     "end_time": "2022-01-19T10:40:06.827828Z",
     "start_time": "2022-01-19T10:40:06.822827Z"
    }
   },
   "outputs": [
    {
     "data": {
      "text/plain": [
       "array([[676,   1,   0],\n",
       "       [ 25, 169,  25],\n",
       "       [324,   9,   1],\n",
       "       [169, 100,   0]])"
      ]
     },
     "execution_count": 35,
     "metadata": {},
     "output_type": "execute_result"
    }
   ],
   "source": [
    "data * data"
   ]
  },
  {
   "cell_type": "code",
   "execution_count": 36,
   "metadata": {
    "ExecuteTime": {
     "end_time": "2022-01-19T10:40:17.621845Z",
     "start_time": "2022-01-19T10:40:17.614843Z"
    }
   },
   "outputs": [
    {
     "data": {
      "text/plain": [
       "array([[676,   1,   0],\n",
       "       [ 25, 169,  25],\n",
       "       [324,   9,   1],\n",
       "       [169, 100,   0]])"
      ]
     },
     "execution_count": 36,
     "metadata": {},
     "output_type": "execute_result"
    }
   ],
   "source": [
    "data ** 2"
   ]
  },
  {
   "cell_type": "code",
   "execution_count": 39,
   "metadata": {
    "ExecuteTime": {
     "end_time": "2022-01-19T10:41:20.401484Z",
     "start_time": "2022-01-19T10:41:20.393482Z"
    }
   },
   "outputs": [
    {
     "data": {
      "text/plain": [
       "array([[0., 0., 0., 0.],\n",
       "       [0., 0., 0., 0.],\n",
       "       [0., 0., 0., 0.]])"
      ]
     },
     "execution_count": 39,
     "metadata": {},
     "output_type": "execute_result"
    }
   ],
   "source": [
    "a = np.arange(12).reshape(3, 4)\n",
    "b = np.zeros((3, 4))\n",
    "a * b"
   ]
  },
  {
   "cell_type": "code",
   "execution_count": 41,
   "metadata": {
    "ExecuteTime": {
     "end_time": "2022-01-19T10:41:55.213402Z",
     "start_time": "2022-01-19T10:41:55.207395Z"
    }
   },
   "outputs": [
    {
     "data": {
      "text/plain": [
       "array([[ 0,  1,  2,  3],\n",
       "       [ 4,  5,  6,  7],\n",
       "       [ 8,  9, 10, 11]])"
      ]
     },
     "execution_count": 41,
     "metadata": {},
     "output_type": "execute_result"
    }
   ],
   "source": [
    "np.arange(12).reshape(3, 4)"
   ]
  },
  {
   "cell_type": "code",
   "execution_count": 42,
   "metadata": {
    "ExecuteTime": {
     "end_time": "2022-01-19T10:42:07.070512Z",
     "start_time": "2022-01-19T10:42:07.063512Z"
    }
   },
   "outputs": [
    {
     "data": {
      "text/plain": [
       "array([[ 0.,  1.,  2.,  3.],\n",
       "       [ 4.,  5.,  6.,  7.],\n",
       "       [ 8.,  9., 10., 11.]])"
      ]
     },
     "execution_count": 42,
     "metadata": {},
     "output_type": "execute_result"
    }
   ],
   "source": [
    "a + b"
   ]
  },
  {
   "cell_type": "code",
   "execution_count": 43,
   "metadata": {
    "ExecuteTime": {
     "end_time": "2022-01-19T10:42:14.023295Z",
     "start_time": "2022-01-19T10:42:14.016268Z"
    }
   },
   "outputs": [
    {
     "data": {
      "text/plain": [
       "array([[1.9573e+11, 2.7183e+00, 1.0000e+00],\n",
       "       [1.4841e+02, 4.4241e+05, 1.4841e+02],\n",
       "       [6.5660e+07, 2.0086e+01, 2.7183e+00],\n",
       "       [4.4241e+05, 2.2026e+04, 1.0000e+00]])"
      ]
     },
     "execution_count": 43,
     "metadata": {},
     "output_type": "execute_result"
    }
   ],
   "source": [
    "np.exp(data)"
   ]
  },
  {
   "cell_type": "code",
   "execution_count": 44,
   "metadata": {
    "ExecuteTime": {
     "end_time": "2022-01-19T10:43:29.082181Z",
     "start_time": "2022-01-19T10:43:29.076219Z"
    }
   },
   "outputs": [
    {
     "data": {
      "text/plain": [
       "95"
      ]
     },
     "execution_count": 44,
     "metadata": {},
     "output_type": "execute_result"
    }
   ],
   "source": [
    "### aggregate\n",
    "np.sum(data)"
   ]
  },
  {
   "cell_type": "code",
   "execution_count": 45,
   "metadata": {
    "ExecuteTime": {
     "end_time": "2022-01-19T10:43:45.576502Z",
     "start_time": "2022-01-19T10:43:45.571475Z"
    }
   },
   "outputs": [
    {
     "name": "stdout",
     "output_type": "stream",
     "text": [
      "[[26  1  0]\n",
      " [ 5 13  5]\n",
      " [18  3  1]\n",
      " [13 10  0]]\n"
     ]
    }
   ],
   "source": [
    "print(data)"
   ]
  },
  {
   "cell_type": "code",
   "execution_count": 47,
   "metadata": {
    "ExecuteTime": {
     "end_time": "2022-01-19T10:44:30.510119Z",
     "start_time": "2022-01-19T10:44:30.503920Z"
    }
   },
   "outputs": [
    {
     "data": {
      "text/plain": [
       "array([27, 23, 22, 23])"
      ]
     },
     "execution_count": 47,
     "metadata": {},
     "output_type": "execute_result"
    }
   ],
   "source": [
    "np.sum(data, axis=1) "
   ]
  },
  {
   "cell_type": "code",
   "execution_count": 46,
   "metadata": {
    "ExecuteTime": {
     "end_time": "2022-01-19T10:44:24.647079Z",
     "start_time": "2022-01-19T10:44:24.641080Z"
    }
   },
   "outputs": [
    {
     "data": {
      "text/plain": [
       "array([62, 27,  6])"
      ]
     },
     "execution_count": 46,
     "metadata": {},
     "output_type": "execute_result"
    }
   ],
   "source": [
    "np.sum(data, axis=0)"
   ]
  },
  {
   "cell_type": "code",
   "execution_count": 48,
   "metadata": {
    "ExecuteTime": {
     "end_time": "2022-01-19T10:44:49.913866Z",
     "start_time": "2022-01-19T10:44:49.908863Z"
    }
   },
   "outputs": [
    {
     "data": {
      "text/plain": [
       "array([   0,  840, 7920])"
      ]
     },
     "execution_count": 48,
     "metadata": {},
     "output_type": "execute_result"
    }
   ],
   "source": [
    "np.prod(a, axis=1)"
   ]
  },
  {
   "cell_type": "code",
   "execution_count": null,
   "metadata": {},
   "outputs": [],
   "source": [
    "a"
   ]
  },
  {
   "cell_type": "code",
   "execution_count": 50,
   "metadata": {
    "ExecuteTime": {
     "end_time": "2022-01-19T10:45:21.235970Z",
     "start_time": "2022-01-19T10:45:21.225969Z"
    }
   },
   "outputs": [
    {
     "data": {
      "text/plain": [
       "array([9.    , 7.6667, 7.3333, 7.6667])"
      ]
     },
     "execution_count": 50,
     "metadata": {},
     "output_type": "execute_result"
    }
   ],
   "source": [
    "np.mean(data, axis=1)"
   ]
  },
  {
   "cell_type": "code",
   "execution_count": 56,
   "metadata": {
    "ExecuteTime": {
     "end_time": "2022-01-19T10:47:04.190643Z",
     "start_time": "2022-01-19T10:47:04.186014Z"
    }
   },
   "outputs": [
    {
     "name": "stdout",
     "output_type": "stream",
     "text": [
      "[[0.9249 0.4478 0.93   0.6468]\n",
      " [0.3635 0.6538 0.3275 0.7236]\n",
      " [0.2777 0.6158 0.8362 0.3738]]\n",
      "[[0.3708 0.0946 0.1739 0.9376 0.2293 0.5919 0.6185 0.6069 0.5941 0.915 ]\n",
      " [0.2757 0.3508 0.8199 0.7455 0.1773 0.0668 0.4512 0.5119 0.6097 0.2617]\n",
      " [0.3504 0.7135 0.1968 0.2094 0.8118 0.5924 0.5814 0.6589 0.1485 0.9031]\n",
      " [0.7274 0.1179 0.0151 0.7948 0.3671 0.082  0.9541 0.5005 0.9777 0.5264]]\n"
     ]
    }
   ],
   "source": [
    "### matrix operations\n",
    "x = np.random.rand(3, 4)\n",
    "y = np.random.rand(4, 10)\n",
    "print(x)\n",
    "print(y)"
   ]
  },
  {
   "cell_type": "code",
   "execution_count": 57,
   "metadata": {
    "ExecuteTime": {
     "end_time": "2022-01-19T10:47:05.256491Z",
     "start_time": "2022-01-19T10:47:05.250492Z"
    }
   },
   "outputs": [
    {
     "data": {
      "text/plain": [
       "(3, 10)"
      ]
     },
     "execution_count": 57,
     "metadata": {},
     "output_type": "execute_result"
    }
   ],
   "source": [
    "np.dot(x, y).shape"
   ]
  },
  {
   "cell_type": "code",
   "execution_count": 58,
   "metadata": {
    "ExecuteTime": {
     "end_time": "2022-01-19T10:47:05.755568Z",
     "start_time": "2022-01-19T10:47:05.748567Z"
    }
   },
   "outputs": [
    {
     "data": {
      "text/plain": [
       "array([[1.2627, 0.9843, 0.7208, 1.9099, 1.2839, 1.1813, 1.9318, 1.727 ,\n",
       "        1.593 , 2.1437],\n",
       "       [0.9561, 0.5827, 0.6747, 1.472 , 0.7308, 0.5122, 1.4006, 1.1333,\n",
       "        1.3707, 1.1803],\n",
       "       [0.8376, 0.8829, 0.7234, 1.1917, 0.989 , 0.7316, 1.2924, 1.2218,\n",
       "        1.0301, 1.3672]])"
      ]
     },
     "execution_count": 58,
     "metadata": {},
     "output_type": "execute_result"
    }
   ],
   "source": [
    "x @ y"
   ]
  },
  {
   "cell_type": "code",
   "execution_count": 59,
   "metadata": {
    "ExecuteTime": {
     "end_time": "2022-01-19T10:47:12.993990Z",
     "start_time": "2022-01-19T10:47:12.978398Z"
    }
   },
   "outputs": [
    {
     "data": {
      "text/plain": [
       "array([27., 23., 22., 23.])"
      ]
     },
     "execution_count": 59,
     "metadata": {},
     "output_type": "execute_result"
    }
   ],
   "source": [
    "v = np.ones(3)\n",
    "np.dot(data, v) # (4, 3) x (3,) -> (4,)"
   ]
  },
  {
   "cell_type": "code",
   "execution_count": 60,
   "metadata": {
    "ExecuteTime": {
     "end_time": "2022-01-19T10:47:23.325352Z",
     "start_time": "2022-01-19T10:47:23.318357Z"
    }
   },
   "outputs": [
    {
     "data": {
      "text/plain": [
       "(3,)"
      ]
     },
     "execution_count": 60,
     "metadata": {},
     "output_type": "execute_result"
    }
   ],
   "source": [
    "v.shape"
   ]
  },
  {
   "cell_type": "code",
   "execution_count": null,
   "metadata": {},
   "outputs": [],
   "source": [
    "v = np.ones((3, 1))\n",
    "np.dot(data, v) # (4, 3) x (3, 1) -> (4, 1)"
   ]
  },
  {
   "cell_type": "code",
   "execution_count": null,
   "metadata": {},
   "outputs": [],
   "source": [
    "data @ v"
   ]
  },
  {
   "cell_type": "code",
   "execution_count": null,
   "metadata": {},
   "outputs": [],
   "source": [
    "data.dot(v)"
   ]
  },
  {
   "cell_type": "code",
   "execution_count": null,
   "metadata": {},
   "outputs": [],
   "source": [
    "np.sum(data, axis=1)\n",
    "data.sum(axis=1)"
   ]
  },
  {
   "cell_type": "code",
   "execution_count": 61,
   "metadata": {
    "ExecuteTime": {
     "end_time": "2022-01-19T10:47:54.187213Z",
     "start_time": "2022-01-19T10:47:54.175684Z"
    }
   },
   "outputs": [
    {
     "data": {
      "text/plain": [
       "array([[1., 0., 0., 0., 0.],\n",
       "       [0., 1., 0., 0., 0.],\n",
       "       [0., 0., 1., 0., 0.],\n",
       "       [0., 0., 0., 1., 0.],\n",
       "       [0., 0., 0., 0., 1.]])"
      ]
     },
     "execution_count": 61,
     "metadata": {},
     "output_type": "execute_result"
    }
   ],
   "source": [
    "np.eye(5)"
   ]
  },
  {
   "cell_type": "code",
   "execution_count": 62,
   "metadata": {
    "ExecuteTime": {
     "end_time": "2022-01-19T10:48:15.837543Z",
     "start_time": "2022-01-19T10:48:15.819344Z"
    }
   },
   "outputs": [
    {
     "data": {
      "text/plain": [
       "array([[1., 0., 0., 0., 0.],\n",
       "       [0., 1., 0., 0., 0.],\n",
       "       [0., 0., 1., 0., 0.],\n",
       "       [0., 0., 0., 1., 0.],\n",
       "       [0., 0., 0., 0., 1.]])"
      ]
     },
     "execution_count": 62,
     "metadata": {},
     "output_type": "execute_result"
    }
   ],
   "source": [
    "np.linalg.inv(np.eye(5)) # inverse matrix"
   ]
  },
  {
   "cell_type": "code",
   "execution_count": null,
   "metadata": {},
   "outputs": [],
   "source": [
    "np.linalg.solve()"
   ]
  },
  {
   "cell_type": "markdown",
   "metadata": {},
   "source": [
    "#### Скалярное произведение\n",
    "\n",
    "Скалярное произведение в пространстве $\\mathbb{R}^{n}$ для двух векторов $x = (x_{1}, \\dots, x_{n})$ и $y = (y_{1}, \\dots, y_{n})$ определяется как:\n",
    "\n",
    "$$\n",
    "\\langle x, y \\rangle = \\sum_{i=1}^n x_{i} y_{i}.\n",
    "$$\n",
    "\n",
    "Скалярное произведение двух векторов можно вычислять с помощью функции __`numpy.dot(a, b, ...)`__ или _метода_ __`vec1.dot(vec2)`__, где __`vec1`__ и __`vec2`__ — исходные векторы."
   ]
  },
  {
   "cell_type": "code",
   "execution_count": 63,
   "metadata": {
    "ExecuteTime": {
     "end_time": "2022-01-19T10:48:52.980526Z",
     "start_time": "2022-01-19T10:48:52.973523Z"
    }
   },
   "outputs": [
    {
     "data": {
      "text/plain": [
       "28"
      ]
     },
     "execution_count": 63,
     "metadata": {},
     "output_type": "execute_result"
    }
   ],
   "source": [
    "a = np.array([1, 2, 3])\n",
    "b = np.array([6, 5, 4])\n",
    "np.dot(a, b)"
   ]
  },
  {
   "cell_type": "markdown",
   "metadata": {},
   "source": [
    "# Header\n",
    "\n",
    "Пишем **текст**\n",
    "- Item 1\n",
    "- item 2\n",
    "\n",
    "$\\sum_i x_i = N$"
   ]
  },
  {
   "cell_type": "markdown",
   "metadata": {},
   "source": [
    "#### Угол между векторами\n",
    "\n",
    "\n",
    "$$\n",
    "\\left| x \\right| = \\sqrt{\\langle x, x \\rangle} = \\sqrt{\\sum_{i=1}^n x_{i}^2} \n",
    "$$\n",
    "____\n",
    "Теперь, когда мы знаем расстояние между двумя ненулевыми векторами и их длины, мы можем вычислить угол между ними через скалярное произведение:\n",
    "\n",
    "$$\n",
    "\\langle x, y \\rangle = \\left| x \\right| | y | \\cos(\\alpha)\n",
    "\\implies \\cos(\\alpha) = \\frac{\\langle x, y \\rangle}{\\left| x \\right| | y |},\n",
    "$$\n",
    "\n",
    "где $\\alpha \\in [0, \\pi]$ — угол между векторами $x$ и $y$."
   ]
  },
  {
   "cell_type": "code",
   "execution_count": 64,
   "metadata": {
    "ExecuteTime": {
     "end_time": "2022-01-19T10:52:09.017034Z",
     "start_time": "2022-01-19T10:52:09.009999Z"
    }
   },
   "outputs": [
    {
     "name": "stdout",
     "output_type": "stream",
     "text": [
      "Косинус угла между a и b: 0.0\n",
      "Сам угол: 90.0\n"
     ]
    }
   ],
   "source": [
    "from numpy.linalg import norm\n",
    "\n",
    "a = np.array([0, 0, 1])\n",
    "b = np.array([0, 1, 0])\n",
    "\n",
    "cos_angle = np.dot(a, b) / (norm(a)  * norm(b))\n",
    "\n",
    "print('Косинус угла между a и b:', cos_angle)\n",
    "print('Сам угол:', np.rad2deg(np.arccos(cos_angle)))"
   ]
  },
  {
   "cell_type": "markdown",
   "metadata": {},
   "source": [
    "### Indexing"
   ]
  },
  {
   "cell_type": "code",
   "execution_count": 65,
   "metadata": {
    "ExecuteTime": {
     "end_time": "2022-01-19T10:53:33.808693Z",
     "start_time": "2022-01-19T10:53:33.801688Z"
    }
   },
   "outputs": [
    {
     "data": {
      "text/plain": [
       "array([[26,  1,  0],\n",
       "       [ 5, 13,  5],\n",
       "       [18,  3,  1],\n",
       "       [13, 10,  0]])"
      ]
     },
     "execution_count": 65,
     "metadata": {},
     "output_type": "execute_result"
    }
   ],
   "source": [
    "data"
   ]
  },
  {
   "cell_type": "code",
   "execution_count": 66,
   "metadata": {
    "ExecuteTime": {
     "end_time": "2022-01-19T10:53:35.764357Z",
     "start_time": "2022-01-19T10:53:35.757046Z"
    }
   },
   "outputs": [
    {
     "data": {
      "text/plain": [
       "array([ 5, 13,  5])"
      ]
     },
     "execution_count": 66,
     "metadata": {},
     "output_type": "execute_result"
    }
   ],
   "source": [
    "data[1]"
   ]
  },
  {
   "cell_type": "code",
   "execution_count": 67,
   "metadata": {
    "ExecuteTime": {
     "end_time": "2022-01-19T10:54:02.356653Z",
     "start_time": "2022-01-19T10:54:02.348618Z"
    }
   },
   "outputs": [
    {
     "data": {
      "text/plain": [
       "array([0, 5, 1, 0])"
      ]
     },
     "execution_count": 67,
     "metadata": {},
     "output_type": "execute_result"
    }
   ],
   "source": [
    "data[:, 2]"
   ]
  },
  {
   "cell_type": "code",
   "execution_count": 68,
   "metadata": {
    "ExecuteTime": {
     "end_time": "2022-01-19T10:54:31.446387Z",
     "start_time": "2022-01-19T10:54:31.439384Z"
    }
   },
   "outputs": [
    {
     "data": {
      "text/plain": [
       "array([[26,  1],\n",
       "       [ 5, 13]])"
      ]
     },
     "execution_count": 68,
     "metadata": {},
     "output_type": "execute_result"
    }
   ],
   "source": [
    "data[:2, :2]"
   ]
  },
  {
   "cell_type": "code",
   "execution_count": 71,
   "metadata": {
    "ExecuteTime": {
     "end_time": "2022-01-19T10:56:07.635757Z",
     "start_time": "2022-01-19T10:56:07.630755Z"
    }
   },
   "outputs": [
    {
     "data": {
      "text/plain": [
       "array([[26,  0],\n",
       "       [ 5,  5],\n",
       "       [18,  1],\n",
       "       [13,  0]])"
      ]
     },
     "execution_count": 71,
     "metadata": {},
     "output_type": "execute_result"
    }
   ],
   "source": [
    "data[::2]"
   ]
  },
  {
   "cell_type": "code",
   "execution_count": 70,
   "metadata": {
    "ExecuteTime": {
     "end_time": "2022-01-19T10:55:28.005162Z",
     "start_time": "2022-01-19T10:55:28.000203Z"
    }
   },
   "outputs": [
    {
     "data": {
      "text/plain": [
       "array([0, 1])"
      ]
     },
     "execution_count": 70,
     "metadata": {},
     "output_type": "execute_result"
    }
   ],
   "source": [
    "data[::2, -1]"
   ]
  },
  {
   "cell_type": "code",
   "execution_count": null,
   "metadata": {},
   "outputs": [],
   "source": [
    "data[-2:, -2:]"
   ]
  },
  {
   "cell_type": "code",
   "execution_count": null,
   "metadata": {},
   "outputs": [],
   "source": [
    "data[[1, 2]]"
   ]
  },
  {
   "cell_type": "code",
   "execution_count": 73,
   "metadata": {
    "ExecuteTime": {
     "end_time": "2022-01-19T10:58:26.284183Z",
     "start_time": "2022-01-19T10:58:26.277150Z"
    }
   },
   "outputs": [
    {
     "data": {
      "text/plain": [
       "array([[ 1],\n",
       "       [13],\n",
       "       [ 3],\n",
       "       [10]])"
      ]
     },
     "execution_count": 73,
     "metadata": {},
     "output_type": "execute_result"
    }
   ],
   "source": [
    "data[:, [False, True, False]] # логическая индексация"
   ]
  },
  {
   "cell_type": "code",
   "execution_count": 79,
   "metadata": {
    "ExecuteTime": {
     "end_time": "2022-01-19T10:59:11.819959Z",
     "start_time": "2022-01-19T10:59:11.812961Z"
    }
   },
   "outputs": [
    {
     "data": {
      "text/plain": [
       "array([[ 5, 13,  5],\n",
       "       [13, 10,  0],\n",
       "       [18,  3,  1],\n",
       "       [26,  1,  0]])"
      ]
     },
     "execution_count": 79,
     "metadata": {},
     "output_type": "execute_result"
    }
   ],
   "source": [
    "# перемешать строки в случайном порядке\n",
    "np.random.permutation(data)"
   ]
  },
  {
   "cell_type": "code",
   "execution_count": 80,
   "metadata": {
    "ExecuteTime": {
     "end_time": "2022-01-19T11:00:05.991512Z",
     "start_time": "2022-01-19T11:00:05.986234Z"
    }
   },
   "outputs": [
    {
     "data": {
      "text/plain": [
       "array([3, 2, 0, 1])"
      ]
     },
     "execution_count": 80,
     "metadata": {},
     "output_type": "execute_result"
    }
   ],
   "source": [
    "idxs = np.random.permutation(np.arange(data.shape[0]))\n",
    "\n",
    "idxs"
   ]
  },
  {
   "cell_type": "code",
   "execution_count": 82,
   "metadata": {
    "ExecuteTime": {
     "end_time": "2022-01-19T11:00:33.616756Z",
     "start_time": "2022-01-19T11:00:33.602221Z"
    }
   },
   "outputs": [
    {
     "data": {
      "text/plain": [
       "array([[26,  1,  0],\n",
       "       [ 5, 13,  5],\n",
       "       [18,  3,  1],\n",
       "       [13, 10,  0]])"
      ]
     },
     "execution_count": 82,
     "metadata": {},
     "output_type": "execute_result"
    }
   ],
   "source": [
    "data[[0, 1 , 2, 3]]"
   ]
  },
  {
   "cell_type": "code",
   "execution_count": 81,
   "metadata": {
    "ExecuteTime": {
     "end_time": "2022-01-19T11:00:21.138244Z",
     "start_time": "2022-01-19T11:00:21.132247Z"
    }
   },
   "outputs": [
    {
     "data": {
      "text/plain": [
       "array([[13, 10,  0],\n",
       "       [18,  3,  1],\n",
       "       [26,  1,  0],\n",
       "       [ 5, 13,  5]])"
      ]
     },
     "execution_count": 81,
     "metadata": {},
     "output_type": "execute_result"
    }
   ],
   "source": [
    "data[idxs]"
   ]
  },
  {
   "cell_type": "code",
   "execution_count": null,
   "metadata": {},
   "outputs": [],
   "source": [
    "data[::-1]"
   ]
  },
  {
   "cell_type": "code",
   "execution_count": null,
   "metadata": {},
   "outputs": [],
   "source": [
    "data"
   ]
  },
  {
   "cell_type": "markdown",
   "metadata": {},
   "source": [
    "### Merging "
   ]
  },
  {
   "cell_type": "code",
   "execution_count": 83,
   "metadata": {
    "ExecuteTime": {
     "end_time": "2022-01-19T11:02:03.348708Z",
     "start_time": "2022-01-19T11:02:03.343709Z"
    }
   },
   "outputs": [],
   "source": [
    "new_data = np.array([[14, 4, 1], [1, 11, 9]])"
   ]
  },
  {
   "cell_type": "code",
   "execution_count": 84,
   "metadata": {
    "ExecuteTime": {
     "end_time": "2022-01-19T11:02:04.126482Z",
     "start_time": "2022-01-19T11:02:04.116092Z"
    }
   },
   "outputs": [
    {
     "data": {
      "text/plain": [
       "array([[14,  4,  1],\n",
       "       [ 1, 11,  9]])"
      ]
     },
     "execution_count": 84,
     "metadata": {},
     "output_type": "execute_result"
    }
   ],
   "source": [
    "new_data"
   ]
  },
  {
   "cell_type": "code",
   "execution_count": 85,
   "metadata": {
    "ExecuteTime": {
     "end_time": "2022-01-19T11:02:18.629305Z",
     "start_time": "2022-01-19T11:02:18.624372Z"
    }
   },
   "outputs": [
    {
     "data": {
      "text/plain": [
       "(4, 3)"
      ]
     },
     "execution_count": 85,
     "metadata": {},
     "output_type": "execute_result"
    }
   ],
   "source": [
    "data.shape"
   ]
  },
  {
   "cell_type": "code",
   "execution_count": 86,
   "metadata": {
    "ExecuteTime": {
     "end_time": "2022-01-19T11:02:33.061671Z",
     "start_time": "2022-01-19T11:02:33.057664Z"
    }
   },
   "outputs": [],
   "source": [
    "long_data = np.vstack((data, new_data))"
   ]
  },
  {
   "cell_type": "code",
   "execution_count": 88,
   "metadata": {
    "ExecuteTime": {
     "end_time": "2022-01-19T11:02:43.948413Z",
     "start_time": "2022-01-19T11:02:43.942407Z"
    }
   },
   "outputs": [
    {
     "data": {
      "text/plain": [
       "(6, 3)"
      ]
     },
     "execution_count": 88,
     "metadata": {},
     "output_type": "execute_result"
    }
   ],
   "source": [
    "long_data.shape"
   ]
  },
  {
   "cell_type": "code",
   "execution_count": 91,
   "metadata": {
    "ExecuteTime": {
     "end_time": "2022-01-19T11:03:24.172651Z",
     "start_time": "2022-01-19T11:03:24.167631Z"
    }
   },
   "outputs": [],
   "source": [
    "# np.hstack((data, new_data))"
   ]
  },
  {
   "cell_type": "code",
   "execution_count": 93,
   "metadata": {
    "ExecuteTime": {
     "end_time": "2022-01-19T11:03:30.741828Z",
     "start_time": "2022-01-19T11:03:30.735838Z"
    }
   },
   "outputs": [
    {
     "data": {
      "text/plain": [
       "array([[26,  1,  0],\n",
       "       [ 5, 13,  5],\n",
       "       [18,  3,  1],\n",
       "       [13, 10,  0],\n",
       "       [14,  4,  1],\n",
       "       [ 1, 11,  9]])"
      ]
     },
     "execution_count": 93,
     "metadata": {},
     "output_type": "execute_result"
    }
   ],
   "source": [
    "np.concatenate((data, new_data), axis=0)"
   ]
  },
  {
   "cell_type": "markdown",
   "metadata": {},
   "source": [
    "np.hstack((data, new_data)) # ошибка"
   ]
  },
  {
   "cell_type": "code",
   "execution_count": null,
   "metadata": {},
   "outputs": [],
   "source": [
    "np.hstack((long_data, long_data.sum(axis=1).reshape(6, 1)))"
   ]
  },
  {
   "cell_type": "code",
   "execution_count": null,
   "metadata": {},
   "outputs": [],
   "source": [
    "long_data.shape"
   ]
  },
  {
   "cell_type": "code",
   "execution_count": null,
   "metadata": {},
   "outputs": [],
   "source": [
    "long_data.sum(axis=1).shape"
   ]
  },
  {
   "cell_type": "code",
   "execution_count": null,
   "metadata": {},
   "outputs": [],
   "source": [
    "##### newaxis"
   ]
  },
  {
   "cell_type": "code",
   "execution_count": 95,
   "metadata": {
    "ExecuteTime": {
     "end_time": "2022-01-19T11:04:40.389296Z",
     "start_time": "2022-01-19T11:04:40.386302Z"
    }
   },
   "outputs": [],
   "source": [
    "sums = long_data.sum(axis=1)"
   ]
  },
  {
   "cell_type": "code",
   "execution_count": 96,
   "metadata": {
    "ExecuteTime": {
     "end_time": "2022-01-19T11:04:42.099181Z",
     "start_time": "2022-01-19T11:04:42.094184Z"
    }
   },
   "outputs": [
    {
     "data": {
      "text/plain": [
       "array([27, 23, 22, 23, 19, 21])"
      ]
     },
     "execution_count": 96,
     "metadata": {},
     "output_type": "execute_result"
    }
   ],
   "source": [
    "sums"
   ]
  },
  {
   "cell_type": "code",
   "execution_count": null,
   "metadata": {},
   "outputs": [],
   "source": [
    "sums.shape"
   ]
  },
  {
   "cell_type": "code",
   "execution_count": null,
   "metadata": {},
   "outputs": [],
   "source": [
    "sums[:, np.newaxis]"
   ]
  },
  {
   "cell_type": "code",
   "execution_count": null,
   "metadata": {},
   "outputs": [],
   "source": [
    "sums[:, np.newaxis].shape"
   ]
  },
  {
   "cell_type": "code",
   "execution_count": null,
   "metadata": {},
   "outputs": [],
   "source": [
    "sums[np.newaxis, :].shape"
   ]
  },
  {
   "cell_type": "markdown",
   "metadata": {},
   "source": [
    "##### Broadcasting"
   ]
  },
  {
   "cell_type": "code",
   "execution_count": 97,
   "metadata": {
    "ExecuteTime": {
     "end_time": "2022-01-19T11:04:44.173115Z",
     "start_time": "2022-01-19T11:04:44.167152Z"
    }
   },
   "outputs": [
    {
     "data": {
      "text/plain": [
       "array([27, 23, 22, 23, 19, 21])"
      ]
     },
     "execution_count": 97,
     "metadata": {},
     "output_type": "execute_result"
    }
   ],
   "source": [
    "sums"
   ]
  },
  {
   "cell_type": "code",
   "execution_count": 98,
   "metadata": {
    "ExecuteTime": {
     "end_time": "2022-01-19T11:04:46.701186Z",
     "start_time": "2022-01-19T11:04:46.693867Z"
    }
   },
   "outputs": [
    {
     "data": {
      "text/plain": [
       "array([[26,  1,  0],\n",
       "       [ 5, 13,  5],\n",
       "       [18,  3,  1],\n",
       "       [13, 10,  0],\n",
       "       [14,  4,  1],\n",
       "       [ 1, 11,  9]])"
      ]
     },
     "execution_count": 98,
     "metadata": {},
     "output_type": "execute_result"
    }
   ],
   "source": [
    "long_data"
   ]
  },
  {
   "cell_type": "code",
   "execution_count": 99,
   "metadata": {
    "ExecuteTime": {
     "end_time": "2022-01-19T11:05:08.381926Z",
     "start_time": "2022-01-19T11:05:08.371530Z"
    }
   },
   "outputs": [
    {
     "ename": "ValueError",
     "evalue": "operands could not be broadcast together with shapes (6,3) (6,) ",
     "output_type": "error",
     "traceback": [
      "\u001b[1;31m---------------------------------------------------------------------------\u001b[0m",
      "\u001b[1;31mValueError\u001b[0m                                Traceback (most recent call last)",
      "\u001b[1;32m~\\AppData\\Local\\Temp/ipykernel_19496/2912439221.py\u001b[0m in \u001b[0;36m<module>\u001b[1;34m\u001b[0m\n\u001b[1;32m----> 1\u001b[1;33m \u001b[0mlong_data\u001b[0m \u001b[1;33m/\u001b[0m \u001b[0msums\u001b[0m\u001b[1;33m\u001b[0m\u001b[1;33m\u001b[0m\u001b[0m\n\u001b[0m",
      "\u001b[1;31mValueError\u001b[0m: operands could not be broadcast together with shapes (6,3) (6,) "
     ]
    }
   ],
   "source": [
    "long_data / sums"
   ]
  },
  {
   "cell_type": "code",
   "execution_count": 101,
   "metadata": {
    "ExecuteTime": {
     "end_time": "2022-01-19T11:05:39.844992Z",
     "start_time": "2022-01-19T11:05:39.839036Z"
    }
   },
   "outputs": [
    {
     "data": {
      "text/plain": [
       "(6, 1)"
      ]
     },
     "execution_count": 101,
     "metadata": {},
     "output_type": "execute_result"
    }
   ],
   "source": [
    "sums.reshape(-1, 1).shape"
   ]
  },
  {
   "cell_type": "code",
   "execution_count": 102,
   "metadata": {
    "ExecuteTime": {
     "end_time": "2022-01-19T11:08:20.573978Z",
     "start_time": "2022-01-19T11:08:20.567013Z"
    }
   },
   "outputs": [
    {
     "data": {
      "text/plain": [
       "array([[0.963 , 0.037 , 0.    ],\n",
       "       [0.2174, 0.5652, 0.2174],\n",
       "       [0.8182, 0.1364, 0.0455],\n",
       "       [0.5652, 0.4348, 0.    ],\n",
       "       [0.7368, 0.2105, 0.0526],\n",
       "       [0.0476, 0.5238, 0.4286]])"
      ]
     },
     "execution_count": 102,
     "metadata": {},
     "output_type": "execute_result"
    }
   ],
   "source": [
    "long_data / sums.reshape(-1, 1)"
   ]
  },
  {
   "cell_type": "code",
   "execution_count": 105,
   "metadata": {
    "ExecuteTime": {
     "end_time": "2022-01-19T11:09:04.878364Z",
     "start_time": "2022-01-19T11:09:04.872368Z"
    }
   },
   "outputs": [
    {
     "data": {
      "text/plain": [
       "array([27, 23, 22, 23, 19, 21])"
      ]
     },
     "execution_count": 105,
     "metadata": {},
     "output_type": "execute_result"
    }
   ],
   "source": [
    "sums"
   ]
  },
  {
   "cell_type": "code",
   "execution_count": 104,
   "metadata": {
    "ExecuteTime": {
     "end_time": "2022-01-19T11:08:59.018262Z",
     "start_time": "2022-01-19T11:08:59.013262Z"
    }
   },
   "outputs": [
    {
     "data": {
      "text/plain": [
       "array([[27, 23, 22, 23, 19, 21]])"
      ]
     },
     "execution_count": 104,
     "metadata": {},
     "output_type": "execute_result"
    }
   ],
   "source": [
    "sums[np.newaxis, :]"
   ]
  },
  {
   "cell_type": "code",
   "execution_count": 106,
   "metadata": {
    "ExecuteTime": {
     "end_time": "2022-01-19T11:09:30.354313Z",
     "start_time": "2022-01-19T11:09:30.348313Z"
    }
   },
   "outputs": [
    {
     "data": {
      "text/plain": [
       "array([[0.963 , 0.037 , 0.    ],\n",
       "       [0.2174, 0.5652, 0.2174],\n",
       "       [0.8182, 0.1364, 0.0455],\n",
       "       [0.5652, 0.4348, 0.    ],\n",
       "       [0.7368, 0.2105, 0.0526],\n",
       "       [0.0476, 0.5238, 0.4286]])"
      ]
     },
     "execution_count": 106,
     "metadata": {},
     "output_type": "execute_result"
    }
   ],
   "source": [
    "long_data / sums[:, np.newaxis]"
   ]
  },
  {
   "cell_type": "code",
   "execution_count": null,
   "metadata": {},
   "outputs": [],
   "source": [
    "long_data.shape, sums.shape"
   ]
  },
  {
   "cell_type": "code",
   "execution_count": null,
   "metadata": {},
   "outputs": [],
   "source": [
    "# Задача: создать таблицу умножения до 9"
   ]
  },
  {
   "cell_type": "code",
   "execution_count": 107,
   "metadata": {
    "ExecuteTime": {
     "end_time": "2022-01-19T11:10:07.014015Z",
     "start_time": "2022-01-19T11:10:07.007017Z"
    }
   },
   "outputs": [
    {
     "data": {
      "text/plain": [
       "array([0, 1, 2, 3, 4, 5, 6, 7, 8, 9])"
      ]
     },
     "execution_count": 107,
     "metadata": {},
     "output_type": "execute_result"
    }
   ],
   "source": [
    "numbers = np.arange(10)\n",
    "numbers"
   ]
  },
  {
   "cell_type": "code",
   "execution_count": 108,
   "metadata": {
    "ExecuteTime": {
     "end_time": "2022-01-19T11:10:26.575354Z",
     "start_time": "2022-01-19T11:10:26.569261Z"
    }
   },
   "outputs": [
    {
     "data": {
      "text/plain": [
       "(10, 1)"
      ]
     },
     "execution_count": 108,
     "metadata": {},
     "output_type": "execute_result"
    }
   ],
   "source": [
    "numbers[:, np.newaxis].shape"
   ]
  },
  {
   "cell_type": "code",
   "execution_count": 109,
   "metadata": {
    "ExecuteTime": {
     "end_time": "2022-01-19T11:10:33.228986Z",
     "start_time": "2022-01-19T11:10:33.223948Z"
    }
   },
   "outputs": [
    {
     "data": {
      "text/plain": [
       "(1, 10)"
      ]
     },
     "execution_count": 109,
     "metadata": {},
     "output_type": "execute_result"
    }
   ],
   "source": [
    "numbers[np.newaxis, :].shape"
   ]
  },
  {
   "cell_type": "code",
   "execution_count": 110,
   "metadata": {
    "ExecuteTime": {
     "end_time": "2022-01-19T11:10:43.783583Z",
     "start_time": "2022-01-19T11:10:43.777060Z"
    }
   },
   "outputs": [
    {
     "data": {
      "text/plain": [
       "array([[ 0,  0,  0,  0,  0,  0,  0,  0,  0,  0],\n",
       "       [ 0,  1,  2,  3,  4,  5,  6,  7,  8,  9],\n",
       "       [ 0,  2,  4,  6,  8, 10, 12, 14, 16, 18],\n",
       "       [ 0,  3,  6,  9, 12, 15, 18, 21, 24, 27],\n",
       "       [ 0,  4,  8, 12, 16, 20, 24, 28, 32, 36],\n",
       "       [ 0,  5, 10, 15, 20, 25, 30, 35, 40, 45],\n",
       "       [ 0,  6, 12, 18, 24, 30, 36, 42, 48, 54],\n",
       "       [ 0,  7, 14, 21, 28, 35, 42, 49, 56, 63],\n",
       "       [ 0,  8, 16, 24, 32, 40, 48, 56, 64, 72],\n",
       "       [ 0,  9, 18, 27, 36, 45, 54, 63, 72, 81]])"
      ]
     },
     "execution_count": 110,
     "metadata": {},
     "output_type": "execute_result"
    }
   ],
   "source": [
    "numbers[:, np.newaxis] * numbers[np.newaxis, :]"
   ]
  },
  {
   "cell_type": "markdown",
   "metadata": {},
   "source": [
    "### Binary arrays"
   ]
  },
  {
   "cell_type": "code",
   "execution_count": 114,
   "metadata": {
    "ExecuteTime": {
     "end_time": "2022-01-19T11:12:17.463382Z",
     "start_time": "2022-01-19T11:12:17.455434Z"
    }
   },
   "outputs": [
    {
     "data": {
      "text/plain": [
       "array([[26.,  1.,  0.],\n",
       "       [ 5., 13.,  5.],\n",
       "       [18.,  3.,  1.],\n",
       "       [13., 10.,  0.]], dtype=float32)"
      ]
     },
     "execution_count": 114,
     "metadata": {},
     "output_type": "execute_result"
    }
   ],
   "source": [
    "lists = [[26, 1, 0], [5, 13, 5], [18, 3, 1], [13, 10, 0]]\n",
    "data = np.array(lists, dtype='float32')\n",
    "data"
   ]
  },
  {
   "cell_type": "code",
   "execution_count": 116,
   "metadata": {
    "ExecuteTime": {
     "end_time": "2022-01-19T11:12:24.565271Z",
     "start_time": "2022-01-19T11:12:24.554237Z"
    }
   },
   "outputs": [
    {
     "data": {
      "text/plain": [
       "array([[26.,  1.,  0.],\n",
       "       [ 5., 13.,  5.],\n",
       "       [18.,  3.,  1.],\n",
       "       [13., 10.,  0.]], dtype=float32)"
      ]
     },
     "execution_count": 116,
     "metadata": {},
     "output_type": "execute_result"
    }
   ],
   "source": [
    "data"
   ]
  },
  {
   "cell_type": "code",
   "execution_count": 115,
   "metadata": {
    "ExecuteTime": {
     "end_time": "2022-01-19T11:12:21.583469Z",
     "start_time": "2022-01-19T11:12:21.577465Z"
    }
   },
   "outputs": [
    {
     "data": {
      "text/plain": [
       "dtype('float32')"
      ]
     },
     "execution_count": 115,
     "metadata": {},
     "output_type": "execute_result"
    }
   ],
   "source": [
    "data.dtype"
   ]
  },
  {
   "cell_type": "code",
   "execution_count": 119,
   "metadata": {
    "ExecuteTime": {
     "end_time": "2022-01-19T11:13:03.062293Z",
     "start_time": "2022-01-19T11:13:03.058247Z"
    }
   },
   "outputs": [],
   "source": [
    "bin_array = np.array([1, 0, 1, 0])"
   ]
  },
  {
   "cell_type": "code",
   "execution_count": 120,
   "metadata": {
    "ExecuteTime": {
     "end_time": "2022-01-19T11:13:10.097827Z",
     "start_time": "2022-01-19T11:13:10.090826Z"
    }
   },
   "outputs": [
    {
     "data": {
      "text/plain": [
       "dtype('int32')"
      ]
     },
     "execution_count": 120,
     "metadata": {},
     "output_type": "execute_result"
    }
   ],
   "source": [
    "bin_array.dtype"
   ]
  },
  {
   "cell_type": "code",
   "execution_count": 121,
   "metadata": {
    "ExecuteTime": {
     "end_time": "2022-01-19T11:14:29.138933Z",
     "start_time": "2022-01-19T11:14:29.133936Z"
    }
   },
   "outputs": [],
   "source": [
    "bin_array = bin_array.astype('bool')"
   ]
  },
  {
   "cell_type": "code",
   "execution_count": 122,
   "metadata": {
    "ExecuteTime": {
     "end_time": "2022-01-19T11:14:34.790038Z",
     "start_time": "2022-01-19T11:14:34.784038Z"
    }
   },
   "outputs": [
    {
     "data": {
      "text/plain": [
       "dtype('bool')"
      ]
     },
     "execution_count": 122,
     "metadata": {},
     "output_type": "execute_result"
    }
   ],
   "source": [
    "bin_array.dtype"
   ]
  },
  {
   "cell_type": "code",
   "execution_count": 117,
   "metadata": {
    "ExecuteTime": {
     "end_time": "2022-01-19T11:12:36.631194Z",
     "start_time": "2022-01-19T11:12:36.625196Z"
    }
   },
   "outputs": [],
   "source": [
    "bin_array = np.array([True, False, True, False])"
   ]
  },
  {
   "cell_type": "code",
   "execution_count": 118,
   "metadata": {
    "ExecuteTime": {
     "end_time": "2022-01-19T11:12:46.628973Z",
     "start_time": "2022-01-19T11:12:46.622722Z"
    }
   },
   "outputs": [
    {
     "data": {
      "text/plain": [
       "dtype('bool')"
      ]
     },
     "execution_count": 118,
     "metadata": {},
     "output_type": "execute_result"
    }
   ],
   "source": [
    "bin_array.dtype"
   ]
  },
  {
   "cell_type": "code",
   "execution_count": 123,
   "metadata": {
    "ExecuteTime": {
     "end_time": "2022-01-19T11:16:00.145023Z",
     "start_time": "2022-01-19T11:16:00.140023Z"
    }
   },
   "outputs": [
    {
     "data": {
      "text/plain": [
       "False"
      ]
     },
     "execution_count": 123,
     "metadata": {},
     "output_type": "execute_result"
    }
   ],
   "source": [
    "np.all(bin_array)"
   ]
  },
  {
   "cell_type": "code",
   "execution_count": 124,
   "metadata": {
    "ExecuteTime": {
     "end_time": "2022-01-19T11:16:18.614787Z",
     "start_time": "2022-01-19T11:16:18.609788Z"
    }
   },
   "outputs": [
    {
     "data": {
      "text/plain": [
       "True"
      ]
     },
     "execution_count": 124,
     "metadata": {},
     "output_type": "execute_result"
    }
   ],
   "source": [
    "np.any(bin_array)"
   ]
  },
  {
   "cell_type": "code",
   "execution_count": 125,
   "metadata": {
    "ExecuteTime": {
     "end_time": "2022-01-19T11:16:24.026635Z",
     "start_time": "2022-01-19T11:16:24.021635Z"
    }
   },
   "outputs": [
    {
     "data": {
      "text/plain": [
       "2"
      ]
     },
     "execution_count": 125,
     "metadata": {},
     "output_type": "execute_result"
    }
   ],
   "source": [
    "np.sum(bin_array)"
   ]
  },
  {
   "cell_type": "code",
   "execution_count": 127,
   "metadata": {
    "ExecuteTime": {
     "end_time": "2022-01-19T11:16:40.905226Z",
     "start_time": "2022-01-19T11:16:40.899219Z"
    }
   },
   "outputs": [],
   "source": [
    "yes = long_data[:, 0]\n",
    "no = long_data[:, 1]\n",
    "# "
   ]
  },
  {
   "cell_type": "code",
   "execution_count": 129,
   "metadata": {
    "ExecuteTime": {
     "end_time": "2022-01-19T11:16:44.975014Z",
     "start_time": "2022-01-19T11:16:44.969006Z"
    }
   },
   "outputs": [
    {
     "data": {
      "text/plain": [
       "(array([26,  5, 18, 13, 14,  1]), array([ 1, 13,  3, 10,  4, 11]))"
      ]
     },
     "execution_count": 129,
     "metadata": {},
     "output_type": "execute_result"
    }
   ],
   "source": [
    "yes, no"
   ]
  },
  {
   "cell_type": "code",
   "execution_count": 130,
   "metadata": {
    "ExecuteTime": {
     "end_time": "2022-01-19T11:16:57.843739Z",
     "start_time": "2022-01-19T11:16:57.835198Z"
    }
   },
   "outputs": [
    {
     "data": {
      "text/plain": [
       "2"
      ]
     },
     "execution_count": 130,
     "metadata": {},
     "output_type": "execute_result"
    }
   ],
   "source": [
    "np.sum(yes<no)"
   ]
  },
  {
   "cell_type": "markdown",
   "metadata": {},
   "source": [
    "### Why use Numpy?"
   ]
  },
  {
   "cell_type": "code",
   "execution_count": 131,
   "metadata": {
    "ExecuteTime": {
     "end_time": "2022-01-19T11:17:25.407686Z",
     "start_time": "2022-01-19T11:17:25.402135Z"
    }
   },
   "outputs": [],
   "source": [
    "n = 300\n",
    "A = np.random.rand(n, n)\n",
    "B = np.random.rand(n, n)"
   ]
  },
  {
   "cell_type": "code",
   "execution_count": 133,
   "metadata": {
    "ExecuteTime": {
     "end_time": "2022-01-19T11:17:40.575576Z",
     "start_time": "2022-01-19T11:17:40.570574Z"
    }
   },
   "outputs": [
    {
     "data": {
      "text/plain": [
       "(300, 300)"
      ]
     },
     "execution_count": 133,
     "metadata": {},
     "output_type": "execute_result"
    }
   ],
   "source": [
    "A.shape"
   ]
  },
  {
   "cell_type": "code",
   "execution_count": 134,
   "metadata": {
    "ExecuteTime": {
     "end_time": "2022-01-19T11:17:45.175272Z",
     "start_time": "2022-01-19T11:17:45.169269Z"
    }
   },
   "outputs": [
    {
     "data": {
      "text/plain": [
       "(300, 300)"
      ]
     },
     "execution_count": 134,
     "metadata": {},
     "output_type": "execute_result"
    }
   ],
   "source": [
    "B.shape"
   ]
  },
  {
   "cell_type": "code",
   "execution_count": 135,
   "metadata": {
    "ExecuteTime": {
     "end_time": "2022-01-19T11:19:20.768297Z",
     "start_time": "2022-01-19T11:18:52.092365Z"
    }
   },
   "outputs": [
    {
     "name": "stdout",
     "output_type": "stream",
     "text": [
      "Wall time: 28.7 s\n"
     ]
    }
   ],
   "source": [
    "%%time\n",
    "C = np.zeros((n, n))\n",
    "for i in range(n):\n",
    "    for j in range(n):\n",
    "        for k in range(n):\n",
    "            C[i, j] += A[i, k] * B[k, j]"
   ]
  },
  {
   "cell_type": "code",
   "execution_count": 136,
   "metadata": {
    "ExecuteTime": {
     "end_time": "2022-01-19T11:19:23.774912Z",
     "start_time": "2022-01-19T11:19:23.762835Z"
    }
   },
   "outputs": [
    {
     "name": "stdout",
     "output_type": "stream",
     "text": [
      "[66.3412 68.944  69.905  70.2104 69.2767 68.0386 65.6205 66.8442 70.0366\n",
      " 64.6212 69.2029 64.9699 68.4894 72.1372 68.8462 69.5497 69.6575 64.9852\n",
      " 69.9648 67.4364 70.3422 69.8802 62.9162 71.1745 67.401  68.6138 69.2007\n",
      " 68.4348 76.2174 70.9284 69.4103 70.7958 65.4891 65.8254 69.7553 68.0724\n",
      " 73.8186 71.2248 70.7508 70.2815 68.2298 64.3224 70.1984 69.4778 66.6314\n",
      " 68.2304 69.6882 65.6864 65.4612 66.7263 65.6608 65.7371 70.9203 69.7585\n",
      " 62.677  68.977  61.6707 68.8208 72.6272 67.4805 67.8539 70.5492 62.7796\n",
      " 63.9263 73.1553 68.8957 71.6304 69.9627 68.0771 67.2481 69.2543 74.6355\n",
      " 69.1959 72.5037 68.8896 69.0788 68.066  70.278  73.7043 69.4842 73.1834\n",
      " 67.7113 70.9166 67.2092 70.49   70.727  67.1372 71.1903 73.5414 72.366\n",
      " 70.8973 65.4819 71.8157 68.373  75.175  67.3983 68.4912 65.2212 70.485\n",
      " 67.8779 69.1476 69.0954 68.5494 69.6573 67.2125 65.37   71.1254 68.5577\n",
      " 69.3282 69.5666 66.4737 67.9228 68.686  70.7336 68.4017 68.54   65.3241\n",
      " 67.6738 66.7545 73.298  70.2129 65.9816 69.8152 72.5086 63.7152 64.5468\n",
      " 73.0191 64.9431 68.1992 70.5277 69.0426 71.7274 65.4106 68.652  70.8551\n",
      " 68.2874 71.7957 69.9607 72.105  65.3191 71.7126 63.8197 66.9289 62.8522\n",
      " 64.8638 75.7676 72.3302 63.2442 62.4466 67.1072 69.0946 66.1803 71.5139\n",
      " 70.5902 67.7357 66.4905 63.8544 71.9061 68.6693 68.5024 68.1555 70.5636\n",
      " 72.8671 67.1135 72.5966 69.1354 73.252  68.3677 67.5898 66.9758 67.9328\n",
      " 72.8939 69.3705 67.1955 70.4038 72.0554 68.6175 68.6569 70.897  71.8838\n",
      " 66.3832 72.1949 70.6517 67.8081 66.4308 69.0972 68.2764 69.7314 67.7931\n",
      " 64.0467 73.6348 67.3148 68.2165 68.8844 71.7284 69.3482 69.6919 71.8438\n",
      " 65.9718 65.0017 70.9837 66.6748 71.9664 70.493  71.4375 71.4577 66.6103\n",
      " 72.2301 71.1163 72.184  64.9728 68.7541 67.1739 65.5698 70.4873 67.4262\n",
      " 62.1972 70.6743 63.5622 73.0465 66.8529 65.6316 66.7266 67.6287 70.6875\n",
      " 67.4063 72.7115 67.897  67.8444 68.1031 67.1766 66.1946 68.884  66.1995\n",
      " 70.8821 63.2179 74.0045 70.0109 70.1903 67.1344 70.7281 67.873  68.7156\n",
      " 64.7198 70.624  66.5978 67.6364 70.8328 71.9085 73.1915 66.3145 66.6945\n",
      " 74.0113 75.5901 67.3692 65.7989 70.559  70.2796 69.8241 68.3182 68.0371\n",
      " 69.5176 70.5495 71.0647 72.373  69.1935 68.7357 72.9978 68.1139 64.334\n",
      " 70.4425 67.8071 65.8582 69.4188 69.4632 67.8611 68.1216 74.2166 70.6666\n",
      " 71.62   69.7058 66.1711 67.9582 74.7832 66.3134 72.4797 71.067  70.0693\n",
      " 70.7502 64.5822 67.82   68.4826 67.552  70.2971 66.8513 72.7278 67.8599\n",
      " 74.9366 67.736  65.602 ]\n"
     ]
    }
   ],
   "source": [
    "print(C[0])"
   ]
  },
  {
   "cell_type": "code",
   "execution_count": 137,
   "metadata": {
    "ExecuteTime": {
     "end_time": "2022-01-19T11:19:32.926495Z",
     "start_time": "2022-01-19T11:19:32.919492Z"
    }
   },
   "outputs": [
    {
     "name": "stdout",
     "output_type": "stream",
     "text": [
      "Wall time: 2 ms\n"
     ]
    }
   ],
   "source": [
    "%%time\n",
    "C = A @ B"
   ]
  },
  {
   "cell_type": "code",
   "execution_count": 138,
   "metadata": {
    "ExecuteTime": {
     "end_time": "2022-01-19T11:19:57.198837Z",
     "start_time": "2022-01-19T11:19:57.192798Z"
    }
   },
   "outputs": [
    {
     "name": "stdout",
     "output_type": "stream",
     "text": [
      "[66.3412 68.944  69.905  70.2104 69.2767 68.0386 65.6205 66.8442 70.0366\n",
      " 64.6212 69.2029 64.9699 68.4894 72.1372 68.8462 69.5497 69.6575 64.9852\n",
      " 69.9648 67.4364 70.3422 69.8802 62.9162 71.1745 67.401  68.6138 69.2007\n",
      " 68.4348 76.2174 70.9284 69.4103 70.7958 65.4891 65.8254 69.7553 68.0724\n",
      " 73.8186 71.2248 70.7508 70.2815 68.2298 64.3224 70.1984 69.4778 66.6314\n",
      " 68.2304 69.6882 65.6864 65.4612 66.7263 65.6608 65.7371 70.9203 69.7585\n",
      " 62.677  68.977  61.6707 68.8208 72.6272 67.4805 67.8539 70.5492 62.7796\n",
      " 63.9263 73.1553 68.8957 71.6304 69.9627 68.0771 67.2481 69.2543 74.6355\n",
      " 69.1959 72.5037 68.8896 69.0788 68.066  70.278  73.7043 69.4842 73.1834\n",
      " 67.7113 70.9166 67.2092 70.49   70.727  67.1372 71.1903 73.5414 72.366\n",
      " 70.8973 65.4819 71.8157 68.373  75.175  67.3983 68.4912 65.2212 70.485\n",
      " 67.8779 69.1476 69.0954 68.5494 69.6573 67.2125 65.37   71.1254 68.5577\n",
      " 69.3282 69.5666 66.4737 67.9228 68.686  70.7336 68.4017 68.54   65.3241\n",
      " 67.6738 66.7545 73.298  70.2129 65.9816 69.8152 72.5086 63.7152 64.5468\n",
      " 73.0191 64.9431 68.1992 70.5277 69.0426 71.7274 65.4106 68.652  70.8551\n",
      " 68.2874 71.7957 69.9607 72.105  65.3191 71.7126 63.8197 66.9289 62.8522\n",
      " 64.8638 75.7676 72.3302 63.2442 62.4466 67.1072 69.0946 66.1803 71.5139\n",
      " 70.5902 67.7357 66.4905 63.8544 71.9061 68.6693 68.5024 68.1555 70.5636\n",
      " 72.8671 67.1135 72.5966 69.1354 73.252  68.3677 67.5898 66.9758 67.9328\n",
      " 72.8939 69.3705 67.1955 70.4038 72.0554 68.6175 68.6569 70.897  71.8838\n",
      " 66.3832 72.1949 70.6517 67.8081 66.4308 69.0972 68.2764 69.7314 67.7931\n",
      " 64.0467 73.6348 67.3148 68.2165 68.8844 71.7284 69.3482 69.6919 71.8438\n",
      " 65.9718 65.0017 70.9837 66.6748 71.9664 70.493  71.4375 71.4577 66.6103\n",
      " 72.2301 71.1163 72.184  64.9728 68.7541 67.1739 65.5698 70.4873 67.4262\n",
      " 62.1972 70.6743 63.5622 73.0465 66.8529 65.6316 66.7266 67.6287 70.6875\n",
      " 67.4063 72.7115 67.897  67.8444 68.1031 67.1766 66.1946 68.884  66.1995\n",
      " 70.8821 63.2179 74.0045 70.0109 70.1903 67.1344 70.7281 67.873  68.7156\n",
      " 64.7198 70.624  66.5978 67.6364 70.8328 71.9085 73.1915 66.3145 66.6945\n",
      " 74.0113 75.5901 67.3692 65.7989 70.559  70.2796 69.8241 68.3182 68.0371\n",
      " 69.5176 70.5495 71.0647 72.373  69.1935 68.7357 72.9978 68.1139 64.334\n",
      " 70.4425 67.8071 65.8582 69.4188 69.4632 67.8611 68.1216 74.2166 70.6666\n",
      " 71.62   69.7058 66.1711 67.9582 74.7832 66.3134 72.4797 71.067  70.0693\n",
      " 70.7502 64.5822 67.82   68.4826 67.552  70.2971 66.8513 72.7278 67.8599\n",
      " 74.9366 67.736  65.602 ]\n"
     ]
    }
   ],
   "source": [
    "print(C[0])"
   ]
  },
  {
   "cell_type": "markdown",
   "metadata": {},
   "source": [
    "**Do use NumPy, not loops**"
   ]
  }
 ],
 "metadata": {
  "kernelspec": {
   "display_name": "Python 3",
   "language": "python",
   "name": "python3"
  },
  "language_info": {
   "codemirror_mode": {
    "name": "ipython",
    "version": 3
   },
   "file_extension": ".py",
   "mimetype": "text/x-python",
   "name": "python",
   "nbconvert_exporter": "python",
   "pygments_lexer": "ipython3",
   "version": "3.9.5"
  },
  "toc": {
   "base_numbering": 1,
   "nav_menu": {},
   "number_sections": false,
   "sideBar": true,
   "skip_h1_title": false,
   "title_cell": "Table of Contents",
   "title_sidebar": "Contents",
   "toc_cell": false,
   "toc_position": {},
   "toc_section_display": true,
   "toc_window_display": false
  }
 },
 "nbformat": 4,
 "nbformat_minor": 2
}
